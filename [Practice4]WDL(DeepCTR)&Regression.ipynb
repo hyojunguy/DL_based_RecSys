{
  "nbformat": 4,
  "nbformat_minor": 0,
  "metadata": {
    "colab": {
      "name": "[Practice4]WDL(DeepCTR)&Regression.ipynb",
      "provenance": [],
      "collapsed_sections": [],
      "include_colab_link": true
    },
    "kernelspec": {
      "name": "python3",
      "display_name": "Python 3"
    },
    "accelerator": "GPU"
  },
  "cells": [
    {
      "cell_type": "markdown",
      "metadata": {
        "id": "view-in-github",
        "colab_type": "text"
      },
      "source": [
        "<a href=\"https://colab.research.google.com/github/hotorch/DL_based_RecSys/blob/master/%5BPractice4%5DWDL(DeepCTR)%26Regression.ipynb\" target=\"_parent\"><img src=\"https://colab.research.google.com/assets/colab-badge.svg\" alt=\"Open In Colab\"/></a>"
      ]
    },
    {
      "cell_type": "markdown",
      "metadata": {
        "id": "zysmN9walXKG",
        "colab_type": "text"
      },
      "source": [
        "다룰 데이터는 영화 평점 예측하는 데이터 입니다. 데이터의 Description은 [여기](http://files.grouplens.org/datasets/movielens/ml-1m-README.txt) 에서 확인을 할 수 있습니다.  \n",
        "\n",
        "또한 DeepCTR 공식문서에서의 예제 데이터들은 [여기](https://github.com/shenweichen/DeepCTR-Torch/tree/master/examples)에 있지만 샘플이 200개 밖에 안되는 데이터이기 때문에 CPU에서 한번 돌려보고 감잡기에 좋습니다.  \n",
        "\n",
        "## 0. Load Data & install DeepCTR-torch"
      ]
    },
    {
      "cell_type": "code",
      "metadata": {
        "id": "b55IDsx-AoNC",
        "colab_type": "code",
        "outputId": "48d811be-0b59-451f-ac0e-390701d2afc1",
        "colab": {
          "base_uri": "https://localhost:8080/",
          "height": 361
        }
      },
      "source": [
        "!mkdir data\n",
        "!wget -q http://www.grouplens.org/system/files/ml-1m.zip ./data\n",
        "!unzip -o ml-1m -d data\n",
        "!pip install deepctr-torch"
      ],
      "execution_count": 1,
      "outputs": [
        {
          "output_type": "stream",
          "text": [
            "Archive:  ml-1m.zip\n",
            "   creating: data/ml-1m/\n",
            "  inflating: data/ml-1m/movies.dat   \n",
            "  inflating: data/ml-1m/ratings.dat  \n",
            "  inflating: data/ml-1m/README       \n",
            "  inflating: data/ml-1m/users.dat    \n",
            "Collecting deepctr-torch\n",
            "\u001b[?25l  Downloading https://files.pythonhosted.org/packages/5c/33/047478cada1347e2168edd6726b91a1c2fe1d706382ed5584584aa51ab24/deepctr_torch-0.2.0-py3-none-any.whl (45kB)\n",
            "\u001b[K     |████████████████████████████████| 51kB 6.5MB/s \n",
            "\u001b[?25hRequirement already satisfied: tqdm in /usr/local/lib/python3.6/dist-packages (from deepctr-torch) (4.28.1)\n",
            "Requirement already satisfied: torch>=1.1.0 in /usr/local/lib/python3.6/dist-packages (from deepctr-torch) (1.4.0)\n",
            "Requirement already satisfied: sklearn in /usr/local/lib/python3.6/dist-packages (from deepctr-torch) (0.0)\n",
            "Requirement already satisfied: scikit-learn in /usr/local/lib/python3.6/dist-packages (from sklearn->deepctr-torch) (0.22.1)\n",
            "Requirement already satisfied: scipy>=0.17.0 in /usr/local/lib/python3.6/dist-packages (from scikit-learn->sklearn->deepctr-torch) (1.4.1)\n",
            "Requirement already satisfied: numpy>=1.11.0 in /usr/local/lib/python3.6/dist-packages (from scikit-learn->sklearn->deepctr-torch) (1.17.5)\n",
            "Requirement already satisfied: joblib>=0.11 in /usr/local/lib/python3.6/dist-packages (from scikit-learn->sklearn->deepctr-torch) (0.14.1)\n",
            "Installing collected packages: deepctr-torch\n",
            "Successfully installed deepctr-torch-0.2.0\n"
          ],
          "name": "stdout"
        }
      ]
    },
    {
      "cell_type": "code",
      "metadata": {
        "id": "BNa0G1aTGBQh",
        "colab_type": "code",
        "outputId": "7216f171-f255-48e0-931e-541ff2d19e0a",
        "colab": {
          "base_uri": "https://localhost:8080/",
          "height": 99
        }
      },
      "source": [
        "import tensorflow as tf\n",
        "print(tf.__version__)"
      ],
      "execution_count": 2,
      "outputs": [
        {
          "output_type": "display_data",
          "data": {
            "text/html": [
              "<p style=\"color: red;\">\n",
              "The default version of TensorFlow in Colab will soon switch to TensorFlow 2.x.<br>\n",
              "We recommend you <a href=\"https://www.tensorflow.org/guide/migrate\" target=\"_blank\">upgrade</a> now \n",
              "or ensure your notebook will continue to use TensorFlow 1.x via the <code>%tensorflow_version 1.x</code> magic:\n",
              "<a href=\"https://colab.research.google.com/notebooks/tensorflow_version.ipynb\" target=\"_blank\">more info</a>.</p>\n"
            ],
            "text/plain": [
              "<IPython.core.display.HTML object>"
            ]
          },
          "metadata": {
            "tags": []
          }
        },
        {
          "output_type": "stream",
          "text": [
            "1.15.0\n"
          ],
          "name": "stdout"
        }
      ]
    },
    {
      "cell_type": "code",
      "metadata": {
        "id": "LFsjH_yFBBYj",
        "colab_type": "code",
        "colab": {}
      },
      "source": [
        "import pandas as pd\n",
        "import numpy as np\n",
        "import torch\n",
        "import math\n",
        "import itertools\n",
        "from sklearn.metrics import mean_squared_error\n",
        "from sklearn.model_selection import train_test_split\n",
        "from sklearn.preprocessing import LabelEncoder\n",
        "from deepctr_torch.models import WDL\n",
        "from deepctr_torch.inputs import SparseFeat,VarLenSparseFeat, get_feature_names\n",
        "from tensorflow.python.keras.preprocessing.sequence import pad_sequences"
      ],
      "execution_count": 0,
      "outputs": []
    },
    {
      "cell_type": "markdown",
      "metadata": {
        "id": "bh35mVRaCTbk",
        "colab_type": "text"
      },
      "source": [
        "data가 3개 존재하기 때문에 이를 하나로 병합할 준비작업을 할 예정입니다."
      ]
    },
    {
      "cell_type": "code",
      "metadata": {
        "id": "e9qh0zvFB7ry",
        "colab_type": "code",
        "outputId": "997c7c50-08ae-42da-e2ad-9a237e940c9f",
        "colab": {
          "base_uri": "https://localhost:8080/",
          "height": 142
        }
      },
      "source": [
        "ratings = pd.read_csv('./data/ml-1m/ratings.dat', header=None, sep=\"::\", engine='python')\n",
        "ratings.head(3) # userID / movieID/ Rating / timestamp"
      ],
      "execution_count": 4,
      "outputs": [
        {
          "output_type": "execute_result",
          "data": {
            "text/html": [
              "<div>\n",
              "<style scoped>\n",
              "    .dataframe tbody tr th:only-of-type {\n",
              "        vertical-align: middle;\n",
              "    }\n",
              "\n",
              "    .dataframe tbody tr th {\n",
              "        vertical-align: top;\n",
              "    }\n",
              "\n",
              "    .dataframe thead th {\n",
              "        text-align: right;\n",
              "    }\n",
              "</style>\n",
              "<table border=\"1\" class=\"dataframe\">\n",
              "  <thead>\n",
              "    <tr style=\"text-align: right;\">\n",
              "      <th></th>\n",
              "      <th>0</th>\n",
              "      <th>1</th>\n",
              "      <th>2</th>\n",
              "      <th>3</th>\n",
              "    </tr>\n",
              "  </thead>\n",
              "  <tbody>\n",
              "    <tr>\n",
              "      <th>0</th>\n",
              "      <td>1</td>\n",
              "      <td>1193</td>\n",
              "      <td>5</td>\n",
              "      <td>978300760</td>\n",
              "    </tr>\n",
              "    <tr>\n",
              "      <th>1</th>\n",
              "      <td>1</td>\n",
              "      <td>661</td>\n",
              "      <td>3</td>\n",
              "      <td>978302109</td>\n",
              "    </tr>\n",
              "    <tr>\n",
              "      <th>2</th>\n",
              "      <td>1</td>\n",
              "      <td>914</td>\n",
              "      <td>3</td>\n",
              "      <td>978301968</td>\n",
              "    </tr>\n",
              "  </tbody>\n",
              "</table>\n",
              "</div>"
            ],
            "text/plain": [
              "   0     1  2          3\n",
              "0  1  1193  5  978300760\n",
              "1  1   661  3  978302109\n",
              "2  1   914  3  978301968"
            ]
          },
          "metadata": {
            "tags": []
          },
          "execution_count": 4
        }
      ]
    },
    {
      "cell_type": "code",
      "metadata": {
        "id": "ICBbEud5Bal7",
        "colab_type": "code",
        "outputId": "c2b52b6f-7f66-494b-8ca4-15826ed533ff",
        "colab": {
          "base_uri": "https://localhost:8080/",
          "height": 142
        }
      },
      "source": [
        "movies = pd.read_csv('./data/ml-1m/movies.dat', header=None, sep=\"::\", engine='python')\n",
        "movies.head(3) # movieID / Title / Genres"
      ],
      "execution_count": 5,
      "outputs": [
        {
          "output_type": "execute_result",
          "data": {
            "text/html": [
              "<div>\n",
              "<style scoped>\n",
              "    .dataframe tbody tr th:only-of-type {\n",
              "        vertical-align: middle;\n",
              "    }\n",
              "\n",
              "    .dataframe tbody tr th {\n",
              "        vertical-align: top;\n",
              "    }\n",
              "\n",
              "    .dataframe thead th {\n",
              "        text-align: right;\n",
              "    }\n",
              "</style>\n",
              "<table border=\"1\" class=\"dataframe\">\n",
              "  <thead>\n",
              "    <tr style=\"text-align: right;\">\n",
              "      <th></th>\n",
              "      <th>0</th>\n",
              "      <th>1</th>\n",
              "      <th>2</th>\n",
              "    </tr>\n",
              "  </thead>\n",
              "  <tbody>\n",
              "    <tr>\n",
              "      <th>0</th>\n",
              "      <td>1</td>\n",
              "      <td>Toy Story (1995)</td>\n",
              "      <td>Animation|Children's|Comedy</td>\n",
              "    </tr>\n",
              "    <tr>\n",
              "      <th>1</th>\n",
              "      <td>2</td>\n",
              "      <td>Jumanji (1995)</td>\n",
              "      <td>Adventure|Children's|Fantasy</td>\n",
              "    </tr>\n",
              "    <tr>\n",
              "      <th>2</th>\n",
              "      <td>3</td>\n",
              "      <td>Grumpier Old Men (1995)</td>\n",
              "      <td>Comedy|Romance</td>\n",
              "    </tr>\n",
              "  </tbody>\n",
              "</table>\n",
              "</div>"
            ],
            "text/plain": [
              "   0                        1                             2\n",
              "0  1         Toy Story (1995)   Animation|Children's|Comedy\n",
              "1  2           Jumanji (1995)  Adventure|Children's|Fantasy\n",
              "2  3  Grumpier Old Men (1995)                Comedy|Romance"
            ]
          },
          "metadata": {
            "tags": []
          },
          "execution_count": 5
        }
      ]
    },
    {
      "cell_type": "code",
      "metadata": {
        "id": "QknoYAuYB8_i",
        "colab_type": "code",
        "outputId": "39ea4426-2938-4677-cc49-cbe0316d5408",
        "colab": {
          "base_uri": "https://localhost:8080/",
          "height": 142
        }
      },
      "source": [
        "users = pd.read_csv('./data/ml-1m/users.dat', header=None, sep=\"::\", engine='python')\n",
        "users.head(3) # UserID / Gender / Age / Occupation / Zip-code"
      ],
      "execution_count": 6,
      "outputs": [
        {
          "output_type": "execute_result",
          "data": {
            "text/html": [
              "<div>\n",
              "<style scoped>\n",
              "    .dataframe tbody tr th:only-of-type {\n",
              "        vertical-align: middle;\n",
              "    }\n",
              "\n",
              "    .dataframe tbody tr th {\n",
              "        vertical-align: top;\n",
              "    }\n",
              "\n",
              "    .dataframe thead th {\n",
              "        text-align: right;\n",
              "    }\n",
              "</style>\n",
              "<table border=\"1\" class=\"dataframe\">\n",
              "  <thead>\n",
              "    <tr style=\"text-align: right;\">\n",
              "      <th></th>\n",
              "      <th>0</th>\n",
              "      <th>1</th>\n",
              "      <th>2</th>\n",
              "      <th>3</th>\n",
              "      <th>4</th>\n",
              "    </tr>\n",
              "  </thead>\n",
              "  <tbody>\n",
              "    <tr>\n",
              "      <th>0</th>\n",
              "      <td>1</td>\n",
              "      <td>F</td>\n",
              "      <td>1</td>\n",
              "      <td>10</td>\n",
              "      <td>48067</td>\n",
              "    </tr>\n",
              "    <tr>\n",
              "      <th>1</th>\n",
              "      <td>2</td>\n",
              "      <td>M</td>\n",
              "      <td>56</td>\n",
              "      <td>16</td>\n",
              "      <td>70072</td>\n",
              "    </tr>\n",
              "    <tr>\n",
              "      <th>2</th>\n",
              "      <td>3</td>\n",
              "      <td>M</td>\n",
              "      <td>25</td>\n",
              "      <td>15</td>\n",
              "      <td>55117</td>\n",
              "    </tr>\n",
              "  </tbody>\n",
              "</table>\n",
              "</div>"
            ],
            "text/plain": [
              "   0  1   2   3      4\n",
              "0  1  F   1  10  48067\n",
              "1  2  M  56  16  70072\n",
              "2  3  M  25  15  55117"
            ]
          },
          "metadata": {
            "tags": []
          },
          "execution_count": 6
        }
      ]
    },
    {
      "cell_type": "markdown",
      "metadata": {
        "id": "PegMZk6dDgOd",
        "colab_type": "text"
      },
      "source": [
        "- Age is chosen from the following ranges:\n",
        "\n",
        "\t*  1:  \"Under 18\"\n",
        "\t* 18:  \"18-24\"\n",
        "\t* 25:  \"25-34\"\n",
        "\t* 35:  \"35-44\"\n",
        "\t* 45:  \"45-49\"\n",
        "\t* 50:  \"50-55\"\n",
        "\t* 56:  \"56+\"\n",
        "\n",
        "- Occupation is chosen from the following choices:\n",
        "\n",
        "\t*  0:  \"other\" or not specified\n",
        "\t*  1:  \"academic/educator\"\n",
        "\t*  2:  \"artist\"\n",
        "\t*  3:  \"clerical/admin\"\n",
        "\t*  4:  \"college/grad student\"\n",
        "\t*  5:  \"customer service\"\n",
        "\t*  6:  \"doctor/health care\"\n",
        "\t*  7:  \"executive/managerial\"\n",
        "\t*  8:  \"farmer\"\n",
        "\t*  9:  \"homemaker\"\n",
        "\t* 10:  \"K-12 student\"\n",
        "\t* 11:  \"lawyer\"\n",
        "\t* 12:  \"programmer\"\n",
        "\t* 13:  \"retired\"\n",
        "\t* 14:  \"sales/marketing\"\n",
        "\t* 15:  \"scientist\"\n",
        "\t* 16:  \"self-employed\"\n",
        "\t* 17:  \"technician/engineer\"\n",
        "\t* 18:  \"tradesman/craftsman\"\n",
        "\t* 19:  \"unemployed\"\n",
        "\t* 20:  \"writer\""
      ]
    },
    {
      "cell_type": "markdown",
      "metadata": {
        "id": "EN-BVxQ6mY9W",
        "colab_type": "text"
      },
      "source": [
        "데이터 column명이 너무 성의가 없어서 변경해줍니다.  timestamp 변수는 참고로 활용하지 않을 계획입니다.  "
      ]
    },
    {
      "cell_type": "code",
      "metadata": {
        "id": "fu07QgQmCDxy",
        "colab_type": "code",
        "colab": {}
      },
      "source": [
        "ratings.columns = [\"uid\",\"iid\",\"rating\",'timestamp']\n",
        "movies.columns = [\"iid\", \"movie_name\",\"genre\"]\n",
        "users.columns = [\"uid\",\"Gender\", \"Age\", \"Occupation\", \"zipcode\"]"
      ],
      "execution_count": 0,
      "outputs": []
    },
    {
      "cell_type": "code",
      "metadata": {
        "id": "1_tnsPbDD1gW",
        "colab_type": "code",
        "outputId": "9dd1dd73-4938-4670-ebc4-b104a304b788",
        "colab": {
          "base_uri": "https://localhost:8080/",
          "height": 71
        }
      },
      "source": [
        "print(ratings.shape)\n",
        "print(movies.shape)\n",
        "print(users.shape)"
      ],
      "execution_count": 8,
      "outputs": [
        {
          "output_type": "stream",
          "text": [
            "(1000209, 4)\n",
            "(3883, 3)\n",
            "(6040, 5)\n"
          ],
          "name": "stdout"
        }
      ]
    },
    {
      "cell_type": "markdown",
      "metadata": {
        "id": "x3x4LAJYEJhL",
        "colab_type": "text"
      },
      "source": [
        "rating 기준으로 left join을 할 예정"
      ]
    },
    {
      "cell_type": "code",
      "metadata": {
        "id": "HGgvBBh8D_mU",
        "colab_type": "code",
        "outputId": "c937d14f-a256-4476-ff3f-07463f67f7b3",
        "colab": {
          "base_uri": "https://localhost:8080/",
          "height": 204
        }
      },
      "source": [
        "rating_join_movies = pd.merge(ratings, movies, how = 'left', on = 'iid')\n",
        "rating_join_movies.head()"
      ],
      "execution_count": 9,
      "outputs": [
        {
          "output_type": "execute_result",
          "data": {
            "text/html": [
              "<div>\n",
              "<style scoped>\n",
              "    .dataframe tbody tr th:only-of-type {\n",
              "        vertical-align: middle;\n",
              "    }\n",
              "\n",
              "    .dataframe tbody tr th {\n",
              "        vertical-align: top;\n",
              "    }\n",
              "\n",
              "    .dataframe thead th {\n",
              "        text-align: right;\n",
              "    }\n",
              "</style>\n",
              "<table border=\"1\" class=\"dataframe\">\n",
              "  <thead>\n",
              "    <tr style=\"text-align: right;\">\n",
              "      <th></th>\n",
              "      <th>uid</th>\n",
              "      <th>iid</th>\n",
              "      <th>rating</th>\n",
              "      <th>timestamp</th>\n",
              "      <th>movie_name</th>\n",
              "      <th>genre</th>\n",
              "    </tr>\n",
              "  </thead>\n",
              "  <tbody>\n",
              "    <tr>\n",
              "      <th>0</th>\n",
              "      <td>1</td>\n",
              "      <td>1193</td>\n",
              "      <td>5</td>\n",
              "      <td>978300760</td>\n",
              "      <td>One Flew Over the Cuckoo's Nest (1975)</td>\n",
              "      <td>Drama</td>\n",
              "    </tr>\n",
              "    <tr>\n",
              "      <th>1</th>\n",
              "      <td>1</td>\n",
              "      <td>661</td>\n",
              "      <td>3</td>\n",
              "      <td>978302109</td>\n",
              "      <td>James and the Giant Peach (1996)</td>\n",
              "      <td>Animation|Children's|Musical</td>\n",
              "    </tr>\n",
              "    <tr>\n",
              "      <th>2</th>\n",
              "      <td>1</td>\n",
              "      <td>914</td>\n",
              "      <td>3</td>\n",
              "      <td>978301968</td>\n",
              "      <td>My Fair Lady (1964)</td>\n",
              "      <td>Musical|Romance</td>\n",
              "    </tr>\n",
              "    <tr>\n",
              "      <th>3</th>\n",
              "      <td>1</td>\n",
              "      <td>3408</td>\n",
              "      <td>4</td>\n",
              "      <td>978300275</td>\n",
              "      <td>Erin Brockovich (2000)</td>\n",
              "      <td>Drama</td>\n",
              "    </tr>\n",
              "    <tr>\n",
              "      <th>4</th>\n",
              "      <td>1</td>\n",
              "      <td>2355</td>\n",
              "      <td>5</td>\n",
              "      <td>978824291</td>\n",
              "      <td>Bug's Life, A (1998)</td>\n",
              "      <td>Animation|Children's|Comedy</td>\n",
              "    </tr>\n",
              "  </tbody>\n",
              "</table>\n",
              "</div>"
            ],
            "text/plain": [
              "   uid  ...                         genre\n",
              "0    1  ...                         Drama\n",
              "1    1  ...  Animation|Children's|Musical\n",
              "2    1  ...               Musical|Romance\n",
              "3    1  ...                         Drama\n",
              "4    1  ...   Animation|Children's|Comedy\n",
              "\n",
              "[5 rows x 6 columns]"
            ]
          },
          "metadata": {
            "tags": []
          },
          "execution_count": 9
        }
      ]
    },
    {
      "cell_type": "code",
      "metadata": {
        "id": "cbeoORiBEui1",
        "colab_type": "code",
        "outputId": "3d6fb764-3f5e-4972-ffb2-f66d93492bf7",
        "colab": {
          "base_uri": "https://localhost:8080/",
          "height": 215
        }
      },
      "source": [
        "rating_join_movies.info()"
      ],
      "execution_count": 10,
      "outputs": [
        {
          "output_type": "stream",
          "text": [
            "<class 'pandas.core.frame.DataFrame'>\n",
            "Int64Index: 1000209 entries, 0 to 1000208\n",
            "Data columns (total 6 columns):\n",
            "uid           1000209 non-null int64\n",
            "iid           1000209 non-null int64\n",
            "rating        1000209 non-null int64\n",
            "timestamp     1000209 non-null int64\n",
            "movie_name    1000209 non-null object\n",
            "genre         1000209 non-null object\n",
            "dtypes: int64(4), object(2)\n",
            "memory usage: 53.4+ MB\n"
          ],
          "name": "stdout"
        }
      ]
    },
    {
      "cell_type": "code",
      "metadata": {
        "id": "fHgfM7s7E-jU",
        "colab_type": "code",
        "outputId": "fdf301cf-aea4-46a7-b802-a46f3eea6174",
        "colab": {
          "base_uri": "https://localhost:8080/",
          "height": 394
        }
      },
      "source": [
        "data = pd.merge(rating_join_movies, users, how = 'left', on = 'uid')\n",
        "data.head()"
      ],
      "execution_count": 11,
      "outputs": [
        {
          "output_type": "execute_result",
          "data": {
            "text/html": [
              "<div>\n",
              "<style scoped>\n",
              "    .dataframe tbody tr th:only-of-type {\n",
              "        vertical-align: middle;\n",
              "    }\n",
              "\n",
              "    .dataframe tbody tr th {\n",
              "        vertical-align: top;\n",
              "    }\n",
              "\n",
              "    .dataframe thead th {\n",
              "        text-align: right;\n",
              "    }\n",
              "</style>\n",
              "<table border=\"1\" class=\"dataframe\">\n",
              "  <thead>\n",
              "    <tr style=\"text-align: right;\">\n",
              "      <th></th>\n",
              "      <th>uid</th>\n",
              "      <th>iid</th>\n",
              "      <th>rating</th>\n",
              "      <th>timestamp</th>\n",
              "      <th>movie_name</th>\n",
              "      <th>genre</th>\n",
              "      <th>Gender</th>\n",
              "      <th>Age</th>\n",
              "      <th>Occupation</th>\n",
              "      <th>zipcode</th>\n",
              "    </tr>\n",
              "  </thead>\n",
              "  <tbody>\n",
              "    <tr>\n",
              "      <th>0</th>\n",
              "      <td>1</td>\n",
              "      <td>1193</td>\n",
              "      <td>5</td>\n",
              "      <td>978300760</td>\n",
              "      <td>One Flew Over the Cuckoo's Nest (1975)</td>\n",
              "      <td>Drama</td>\n",
              "      <td>F</td>\n",
              "      <td>1</td>\n",
              "      <td>10</td>\n",
              "      <td>48067</td>\n",
              "    </tr>\n",
              "    <tr>\n",
              "      <th>1</th>\n",
              "      <td>1</td>\n",
              "      <td>661</td>\n",
              "      <td>3</td>\n",
              "      <td>978302109</td>\n",
              "      <td>James and the Giant Peach (1996)</td>\n",
              "      <td>Animation|Children's|Musical</td>\n",
              "      <td>F</td>\n",
              "      <td>1</td>\n",
              "      <td>10</td>\n",
              "      <td>48067</td>\n",
              "    </tr>\n",
              "    <tr>\n",
              "      <th>2</th>\n",
              "      <td>1</td>\n",
              "      <td>914</td>\n",
              "      <td>3</td>\n",
              "      <td>978301968</td>\n",
              "      <td>My Fair Lady (1964)</td>\n",
              "      <td>Musical|Romance</td>\n",
              "      <td>F</td>\n",
              "      <td>1</td>\n",
              "      <td>10</td>\n",
              "      <td>48067</td>\n",
              "    </tr>\n",
              "    <tr>\n",
              "      <th>3</th>\n",
              "      <td>1</td>\n",
              "      <td>3408</td>\n",
              "      <td>4</td>\n",
              "      <td>978300275</td>\n",
              "      <td>Erin Brockovich (2000)</td>\n",
              "      <td>Drama</td>\n",
              "      <td>F</td>\n",
              "      <td>1</td>\n",
              "      <td>10</td>\n",
              "      <td>48067</td>\n",
              "    </tr>\n",
              "    <tr>\n",
              "      <th>4</th>\n",
              "      <td>1</td>\n",
              "      <td>2355</td>\n",
              "      <td>5</td>\n",
              "      <td>978824291</td>\n",
              "      <td>Bug's Life, A (1998)</td>\n",
              "      <td>Animation|Children's|Comedy</td>\n",
              "      <td>F</td>\n",
              "      <td>1</td>\n",
              "      <td>10</td>\n",
              "      <td>48067</td>\n",
              "    </tr>\n",
              "  </tbody>\n",
              "</table>\n",
              "</div>"
            ],
            "text/plain": [
              "   uid   iid  rating  timestamp  ... Gender Age Occupation  zipcode\n",
              "0    1  1193       5  978300760  ...      F   1         10    48067\n",
              "1    1   661       3  978302109  ...      F   1         10    48067\n",
              "2    1   914       3  978301968  ...      F   1         10    48067\n",
              "3    1  3408       4  978300275  ...      F   1         10    48067\n",
              "4    1  2355       5  978824291  ...      F   1         10    48067\n",
              "\n",
              "[5 rows x 10 columns]"
            ]
          },
          "metadata": {
            "tags": []
          },
          "execution_count": 11
        }
      ]
    },
    {
      "cell_type": "code",
      "metadata": {
        "id": "877mvTMPFsuM",
        "colab_type": "code",
        "outputId": "d688a283-4681-4c20-bffd-b42479272f10",
        "colab": {
          "base_uri": "https://localhost:8080/",
          "height": 35
        }
      },
      "source": [
        "data.shape"
      ],
      "execution_count": 12,
      "outputs": [
        {
          "output_type": "execute_result",
          "data": {
            "text/plain": [
              "(1000209, 10)"
            ]
          },
          "metadata": {
            "tags": []
          },
          "execution_count": 12
        }
      ]
    },
    {
      "cell_type": "code",
      "metadata": {
        "id": "QZah7BsdFuEr",
        "colab_type": "code",
        "outputId": "c4533381-4fc4-42fa-efc2-f184879ed625",
        "colab": {
          "base_uri": "https://localhost:8080/",
          "height": 287
        }
      },
      "source": [
        "data.info()"
      ],
      "execution_count": 13,
      "outputs": [
        {
          "output_type": "stream",
          "text": [
            "<class 'pandas.core.frame.DataFrame'>\n",
            "Int64Index: 1000209 entries, 0 to 1000208\n",
            "Data columns (total 10 columns):\n",
            "uid           1000209 non-null int64\n",
            "iid           1000209 non-null int64\n",
            "rating        1000209 non-null int64\n",
            "timestamp     1000209 non-null int64\n",
            "movie_name    1000209 non-null object\n",
            "genre         1000209 non-null object\n",
            "Gender        1000209 non-null object\n",
            "Age           1000209 non-null int64\n",
            "Occupation    1000209 non-null int64\n",
            "zipcode       1000209 non-null object\n",
            "dtypes: int64(6), object(4)\n",
            "memory usage: 83.9+ MB\n"
          ],
          "name": "stdout"
        }
      ]
    },
    {
      "cell_type": "markdown",
      "metadata": {
        "id": "pGW9n9CbGH3t",
        "colab_type": "text"
      },
      "source": [
        "이제 다루고자 하는 데이터를 간단히 만들었으니 DeepCTR에 있는 기능들을 활용을 해봅니다. "
      ]
    },
    {
      "cell_type": "markdown",
      "metadata": {
        "id": "CnAVgyNqGVlV",
        "colab_type": "text"
      },
      "source": [
        "## 1. Features, Target 지정"
      ]
    },
    {
      "cell_type": "code",
      "metadata": {
        "id": "R-lu-KgDGZS7",
        "colab_type": "code",
        "colab": {}
      },
      "source": [
        "sparse_features = ['iid', 'uid', 'Gender','Age', 'Occupation', 'zipcode', ]\n",
        "target = ['rating']"
      ],
      "execution_count": 0,
      "outputs": []
    },
    {
      "cell_type": "markdown",
      "metadata": {
        "id": "Uzl35Q3PHKvr",
        "colab_type": "text"
      },
      "source": [
        "## 2. Label Encoding for sparse features & count unique features for each sparse field\n",
        "\n",
        "문자로 들어가 있는 부분을 숫자로 바꾸기 위해 라벨인코딩을 실시합니다. "
      ]
    },
    {
      "cell_type": "code",
      "metadata": {
        "id": "yHTE6Le_HHkh",
        "colab_type": "code",
        "colab": {}
      },
      "source": [
        "for feat in sparse_features:\n",
        "    lbe = LabelEncoder()\n",
        "    data[feat] = lbe.fit_transform(data[feat])"
      ],
      "execution_count": 0,
      "outputs": []
    },
    {
      "cell_type": "code",
      "metadata": {
        "id": "LhqqwB_ZHbER",
        "colab_type": "code",
        "outputId": "3af5efb8-c199-43dd-f5fd-fda682cf04fc",
        "colab": {
          "base_uri": "https://localhost:8080/",
          "height": 204
        }
      },
      "source": [
        "data[sparse_features].head()"
      ],
      "execution_count": 16,
      "outputs": [
        {
          "output_type": "execute_result",
          "data": {
            "text/html": [
              "<div>\n",
              "<style scoped>\n",
              "    .dataframe tbody tr th:only-of-type {\n",
              "        vertical-align: middle;\n",
              "    }\n",
              "\n",
              "    .dataframe tbody tr th {\n",
              "        vertical-align: top;\n",
              "    }\n",
              "\n",
              "    .dataframe thead th {\n",
              "        text-align: right;\n",
              "    }\n",
              "</style>\n",
              "<table border=\"1\" class=\"dataframe\">\n",
              "  <thead>\n",
              "    <tr style=\"text-align: right;\">\n",
              "      <th></th>\n",
              "      <th>iid</th>\n",
              "      <th>uid</th>\n",
              "      <th>Gender</th>\n",
              "      <th>Age</th>\n",
              "      <th>Occupation</th>\n",
              "      <th>zipcode</th>\n",
              "    </tr>\n",
              "  </thead>\n",
              "  <tbody>\n",
              "    <tr>\n",
              "      <th>0</th>\n",
              "      <td>1104</td>\n",
              "      <td>0</td>\n",
              "      <td>0</td>\n",
              "      <td>0</td>\n",
              "      <td>10</td>\n",
              "      <td>1588</td>\n",
              "    </tr>\n",
              "    <tr>\n",
              "      <th>1</th>\n",
              "      <td>639</td>\n",
              "      <td>0</td>\n",
              "      <td>0</td>\n",
              "      <td>0</td>\n",
              "      <td>10</td>\n",
              "      <td>1588</td>\n",
              "    </tr>\n",
              "    <tr>\n",
              "      <th>2</th>\n",
              "      <td>853</td>\n",
              "      <td>0</td>\n",
              "      <td>0</td>\n",
              "      <td>0</td>\n",
              "      <td>10</td>\n",
              "      <td>1588</td>\n",
              "    </tr>\n",
              "    <tr>\n",
              "      <th>3</th>\n",
              "      <td>3177</td>\n",
              "      <td>0</td>\n",
              "      <td>0</td>\n",
              "      <td>0</td>\n",
              "      <td>10</td>\n",
              "      <td>1588</td>\n",
              "    </tr>\n",
              "    <tr>\n",
              "      <th>4</th>\n",
              "      <td>2162</td>\n",
              "      <td>0</td>\n",
              "      <td>0</td>\n",
              "      <td>0</td>\n",
              "      <td>10</td>\n",
              "      <td>1588</td>\n",
              "    </tr>\n",
              "  </tbody>\n",
              "</table>\n",
              "</div>"
            ],
            "text/plain": [
              "    iid  uid  Gender  Age  Occupation  zipcode\n",
              "0  1104    0       0    0          10     1588\n",
              "1   639    0       0    0          10     1588\n",
              "2   853    0       0    0          10     1588\n",
              "3  3177    0       0    0          10     1588\n",
              "4  2162    0       0    0          10     1588"
            ]
          },
          "metadata": {
            "tags": []
          },
          "execution_count": 16
        }
      ]
    },
    {
      "cell_type": "code",
      "metadata": {
        "id": "EoULsL3zI1jW",
        "colab_type": "code",
        "outputId": "1d9157fb-9ec8-4e78-e24b-ab86bfc86912",
        "colab": {
          "base_uri": "https://localhost:8080/",
          "height": 125
        }
      },
      "source": [
        "# emb size 공식 : embedding 의 더 높은 dimension 은 더 높은 자유도로 features 의 대표들을 학습할 수 있다. \n",
        "# TF tutorial에서는 모든 feature columns 의 dimension(차원)을 8로 지정합니다\n",
        "# Tutorial에서 경험적으로, a more informed decision 차원의 수는 ,\n",
        "# $$k\\\\log_2(n)$$ 나 $$k\\\\sqrt[4]n$$ 의 차수 값에서 시작.\n",
        "# 이때 $$n$$ 은 feature column 에서 유니크한 feature 의 수 /\n",
        "# $$k$$ 는 작은 상수값(일반적으로 10보다 작은 값)이다.\n",
        "# 하지만 DeepCTR 모듈 들어다 보면 6 * int(pow(vocabulary_size, 0.25)) 입니다.\n",
        "\n",
        "fixlen_feature_columns = [SparseFeat(\n",
        "                                      name = feat, \n",
        "                                      vocabulary_size = data[feat].nunique(),\n",
        "                                      embedding_dim = \"auto\" # math.ceil(2*math.log(data[feat].nunique(),2))\n",
        "                                      )\n",
        "                    for feat in sparse_features]\n",
        "fixlen_feature_columns"
      ],
      "execution_count": 17,
      "outputs": [
        {
          "output_type": "execute_result",
          "data": {
            "text/plain": [
              "[SparseFeat(name='iid', vocabulary_size=3706, embedding_dim=42, use_hash=False, dtype='int32', embedding_name='iid', group_name='default_group'),\n",
              " SparseFeat(name='uid', vocabulary_size=6040, embedding_dim=48, use_hash=False, dtype='int32', embedding_name='uid', group_name='default_group'),\n",
              " SparseFeat(name='Gender', vocabulary_size=2, embedding_dim=6, use_hash=False, dtype='int32', embedding_name='Gender', group_name='default_group'),\n",
              " SparseFeat(name='Age', vocabulary_size=7, embedding_dim=6, use_hash=False, dtype='int32', embedding_name='Age', group_name='default_group'),\n",
              " SparseFeat(name='Occupation', vocabulary_size=21, embedding_dim=12, use_hash=False, dtype='int32', embedding_name='Occupation', group_name='default_group'),\n",
              " SparseFeat(name='zipcode', vocabulary_size=3439, embedding_dim=42, use_hash=False, dtype='int32', embedding_name='zipcode', group_name='default_group')]"
            ]
          },
          "metadata": {
            "tags": []
          },
          "execution_count": 17
        }
      ]
    },
    {
      "cell_type": "markdown",
      "metadata": {
        "id": "CH2iRvZYK7br",
        "colab_type": "text"
      },
      "source": [
        "## 3. process sequence features & generate feature config for sequence feature\n",
        "\n",
        "장르에 대해 시퀀셜한 처리를 해줄 계획입니다. "
      ]
    },
    {
      "cell_type": "code",
      "metadata": {
        "id": "WkqBBBxGIAz0",
        "colab_type": "code",
        "colab": {}
      },
      "source": [
        "def split(x):\n",
        "    key_ans = x.split('|')\n",
        "    for key in key_ans:\n",
        "        if key not in key2index:\n",
        "            key2index[key] = len(key2index) + 1\n",
        "    return list(map(lambda x: key2index[x], key_ans))"
      ],
      "execution_count": 0,
      "outputs": []
    },
    {
      "cell_type": "code",
      "metadata": {
        "id": "MuBbdMV2LRCz",
        "colab_type": "code",
        "outputId": "4f28683f-069b-4453-a27f-1597bdbb3740",
        "colab": {
          "base_uri": "https://localhost:8080/",
          "height": 35
        }
      },
      "source": [
        "# preprocess the sequence feature\n",
        "key2index = {}\n",
        "genres_list = list(map(split, data['genre'].values))\n",
        "genres_list[:6]"
      ],
      "execution_count": 19,
      "outputs": [
        {
          "output_type": "execute_result",
          "data": {
            "text/plain": [
              "[[1], [2, 3, 4], [4, 5], [1], [2, 3, 6], [7, 8, 6, 5]]"
            ]
          },
          "metadata": {
            "tags": []
          },
          "execution_count": 19
        }
      ]
    },
    {
      "cell_type": "code",
      "metadata": {
        "id": "ZdR8Qz1eLX7z",
        "colab_type": "code",
        "outputId": "3591aedd-2018-434d-ee36-2a43987beec4",
        "colab": {
          "base_uri": "https://localhost:8080/",
          "height": 35
        }
      },
      "source": [
        "genres_length = np.array(list(map(len, genres_list)))\n",
        "genres_length[:6]"
      ],
      "execution_count": 20,
      "outputs": [
        {
          "output_type": "execute_result",
          "data": {
            "text/plain": [
              "array([1, 3, 2, 1, 3, 4])"
            ]
          },
          "metadata": {
            "tags": []
          },
          "execution_count": 20
        }
      ]
    },
    {
      "cell_type": "code",
      "metadata": {
        "id": "R_fJswA0LaXL",
        "colab_type": "code",
        "outputId": "d33308f4-1923-4b89-9c17-407019fcd6f4",
        "colab": {
          "base_uri": "https://localhost:8080/",
          "height": 35
        }
      },
      "source": [
        "max_len = max(genres_length)\n",
        "max_len"
      ],
      "execution_count": 21,
      "outputs": [
        {
          "output_type": "execute_result",
          "data": {
            "text/plain": [
              "6"
            ]
          },
          "metadata": {
            "tags": []
          },
          "execution_count": 21
        }
      ]
    },
    {
      "cell_type": "markdown",
      "metadata": {
        "id": "GUBOD2p3v02O",
        "colab_type": "text"
      },
      "source": [
        "padding된 것을 살펴보면 다음과 같습니다"
      ]
    },
    {
      "cell_type": "code",
      "metadata": {
        "id": "9wnGweA2LlRZ",
        "colab_type": "code",
        "outputId": "e9633e50-131b-4a2d-d04b-8d9bbb80f75e",
        "colab": {
          "base_uri": "https://localhost:8080/",
          "height": 125
        }
      },
      "source": [
        "genres_list = pad_sequences(genres_list, maxlen=max(genres_length), padding='post', )\n",
        "genres_list[0:6]"
      ],
      "execution_count": 22,
      "outputs": [
        {
          "output_type": "execute_result",
          "data": {
            "text/plain": [
              "array([[1, 0, 0, 0, 0, 0],\n",
              "       [2, 3, 4, 0, 0, 0],\n",
              "       [4, 5, 0, 0, 0, 0],\n",
              "       [1, 0, 0, 0, 0, 0],\n",
              "       [2, 3, 6, 0, 0, 0],\n",
              "       [7, 8, 6, 5, 0, 0]], dtype=int32)"
            ]
          },
          "metadata": {
            "tags": []
          },
          "execution_count": 22
        }
      ]
    },
    {
      "cell_type": "code",
      "metadata": {
        "id": "vR17zLyIb9l-",
        "colab_type": "code",
        "outputId": "7916b0eb-2ada-4bbc-a5d6-a65208ba290c",
        "colab": {
          "base_uri": "https://localhost:8080/",
          "height": 35
        }
      },
      "source": [
        "genres_list.shape"
      ],
      "execution_count": 23,
      "outputs": [
        {
          "output_type": "execute_result",
          "data": {
            "text/plain": [
              "(1000209, 6)"
            ]
          },
          "metadata": {
            "tags": []
          },
          "execution_count": 23
        }
      ]
    },
    {
      "cell_type": "code",
      "metadata": {
        "id": "SO4K0FbMMKpH",
        "colab_type": "code",
        "outputId": "b10c90bc-e12c-4108-d548-85d36358feaf",
        "colab": {
          "base_uri": "https://localhost:8080/",
          "height": 55
        }
      },
      "source": [
        "varlen_feature_columns = [VarLenSparseFeat(SparseFeat('genre',  \n",
        "                                           vocabulary_size = len(key2index)+1,\n",
        "                                           embedding_dim = \"auto\"),\n",
        "                                           maxlen = max(genres_length), \n",
        "                                           combiner = 'mean')]  # 평균이나 max나 다양하게 결합을 할 수 있습니다. 유튜브 추천시스템에서는 평균으로 결합하는 것이 가장 좋았다고 헀습니다.\n",
        "varlen_feature_columns"
      ],
      "execution_count": 24,
      "outputs": [
        {
          "output_type": "execute_result",
          "data": {
            "text/plain": [
              "[VarLenSparseFeat(sparsefeat=SparseFeat(name='genre', vocabulary_size=19, embedding_dim=12, use_hash=False, dtype='int32', embedding_name='genre', group_name='default_group'), maxlen=6, combiner='mean', length_name=None)]"
            ]
          },
          "metadata": {
            "tags": []
          },
          "execution_count": 24
        }
      ]
    },
    {
      "cell_type": "markdown",
      "metadata": {
        "id": "CaaJnBczStbe",
        "colab_type": "text"
      },
      "source": [
        "## 4. Combine Components\n",
        "앞서 만든 요소들을 결합합니다"
      ]
    },
    {
      "cell_type": "code",
      "metadata": {
        "id": "yfIvbI8iMUac",
        "colab_type": "code",
        "colab": {}
      },
      "source": [
        "linear_feature_columns = fixlen_feature_columns + varlen_feature_columns\n",
        "dnn_feature_columns = fixlen_feature_columns + varlen_feature_columns"
      ],
      "execution_count": 0,
      "outputs": []
    },
    {
      "cell_type": "code",
      "metadata": {
        "id": "UaaVVZgnwQHO",
        "colab_type": "code",
        "colab": {
          "base_uri": "https://localhost:8080/",
          "height": 163
        },
        "outputId": "69c6a5b1-5245-446d-eb01-230bd3a21a57"
      },
      "source": [
        "linear_feature_columns"
      ],
      "execution_count": 27,
      "outputs": [
        {
          "output_type": "execute_result",
          "data": {
            "text/plain": [
              "[SparseFeat(name='iid', vocabulary_size=3706, embedding_dim=42, use_hash=False, dtype='int32', embedding_name='iid', group_name='default_group'),\n",
              " SparseFeat(name='uid', vocabulary_size=6040, embedding_dim=48, use_hash=False, dtype='int32', embedding_name='uid', group_name='default_group'),\n",
              " SparseFeat(name='Gender', vocabulary_size=2, embedding_dim=6, use_hash=False, dtype='int32', embedding_name='Gender', group_name='default_group'),\n",
              " SparseFeat(name='Age', vocabulary_size=7, embedding_dim=6, use_hash=False, dtype='int32', embedding_name='Age', group_name='default_group'),\n",
              " SparseFeat(name='Occupation', vocabulary_size=21, embedding_dim=12, use_hash=False, dtype='int32', embedding_name='Occupation', group_name='default_group'),\n",
              " SparseFeat(name='zipcode', vocabulary_size=3439, embedding_dim=42, use_hash=False, dtype='int32', embedding_name='zipcode', group_name='default_group'),\n",
              " VarLenSparseFeat(sparsefeat=SparseFeat(name='genre', vocabulary_size=19, embedding_dim=12, use_hash=False, dtype='int32', embedding_name='genre', group_name='default_group'), maxlen=6, combiner='mean', length_name=None)]"
            ]
          },
          "metadata": {
            "tags": []
          },
          "execution_count": 27
        }
      ]
    },
    {
      "cell_type": "code",
      "metadata": {
        "id": "SfGoTXz1OJC4",
        "colab_type": "code",
        "outputId": "bc9f033b-11a1-4eec-fe3b-742abe1e28a4",
        "colab": {
          "base_uri": "https://localhost:8080/",
          "height": 35
        }
      },
      "source": [
        "feature_names = get_feature_names(linear_feature_columns + dnn_feature_columns)\n",
        "feature_names"
      ],
      "execution_count": 26,
      "outputs": [
        {
          "output_type": "execute_result",
          "data": {
            "text/plain": [
              "['iid', 'uid', 'Gender', 'Age', 'Occupation', 'zipcode', 'genre']"
            ]
          },
          "metadata": {
            "tags": []
          },
          "execution_count": 26
        }
      ]
    },
    {
      "cell_type": "markdown",
      "metadata": {
        "id": "HrTEt4PESy-T",
        "colab_type": "text"
      },
      "source": [
        "## 5. data split & generate input data for model\n",
        "원래 데이터 잘라야 정석인데 평가만 하겠습니다. input의 형태로 맞추기 위해 다음처럼 처리합니다. "
      ]
    },
    {
      "cell_type": "code",
      "metadata": {
        "id": "FInX4gYFdShd",
        "colab_type": "code",
        "colab": {}
      },
      "source": [
        "model_input = {name: data[name] for name in sparse_features}  \n",
        "model_input[\"genre\"] = genres_list"
      ],
      "execution_count": 0,
      "outputs": []
    },
    {
      "cell_type": "code",
      "metadata": {
        "id": "pvBa9Yb1cUcS",
        "colab_type": "code",
        "outputId": "8f2362f6-8747-4b8d-a613-96f43558d29c",
        "colab": {
          "base_uri": "https://localhost:8080/",
          "height": 1000
        }
      },
      "source": [
        "# dict 형태로 input\n",
        "model_input"
      ],
      "execution_count": 29,
      "outputs": [
        {
          "output_type": "execute_result",
          "data": {
            "text/plain": [
              "{'Age': 0          0\n",
              " 1          0\n",
              " 2          0\n",
              " 3          0\n",
              " 4          0\n",
              "           ..\n",
              " 1000204    2\n",
              " 1000205    2\n",
              " 1000206    2\n",
              " 1000207    2\n",
              " 1000208    2\n",
              " Name: Age, Length: 1000209, dtype: int64, 'Gender': 0          0\n",
              " 1          0\n",
              " 2          0\n",
              " 3          0\n",
              " 4          0\n",
              "           ..\n",
              " 1000204    1\n",
              " 1000205    1\n",
              " 1000206    1\n",
              " 1000207    1\n",
              " 1000208    1\n",
              " Name: Gender, Length: 1000209, dtype: int64, 'Occupation': 0          10\n",
              " 1          10\n",
              " 2          10\n",
              " 3          10\n",
              " 4          10\n",
              "            ..\n",
              " 1000204     6\n",
              " 1000205     6\n",
              " 1000206     6\n",
              " 1000207     6\n",
              " 1000208     6\n",
              " Name: Occupation, Length: 1000209, dtype: int64, 'genre': array([[ 1,  0,  0,  0,  0,  0],\n",
              "        [ 2,  3,  4,  0,  0,  0],\n",
              "        [ 4,  5,  0,  0,  0,  0],\n",
              "        ...,\n",
              "        [ 6,  1,  0,  0,  0,  0],\n",
              "        [ 1,  0,  0,  0,  0,  0],\n",
              "        [ 3,  1,  9, 10,  0,  0]], dtype=int32), 'iid': 0          1104\n",
              " 1           639\n",
              " 2           853\n",
              " 3          3177\n",
              " 4          2162\n",
              "            ... \n",
              " 1000204    1019\n",
              " 1000205    1022\n",
              " 1000206     548\n",
              " 1000207    1024\n",
              " 1000208    1025\n",
              " Name: iid, Length: 1000209, dtype: int64, 'uid': 0             0\n",
              " 1             0\n",
              " 2             0\n",
              " 3             0\n",
              " 4             0\n",
              "            ... \n",
              " 1000204    6039\n",
              " 1000205    6039\n",
              " 1000206    6039\n",
              " 1000207    6039\n",
              " 1000208    6039\n",
              " Name: uid, Length: 1000209, dtype: int64, 'zipcode': 0          1588\n",
              " 1          1588\n",
              " 2          1588\n",
              " 3          1588\n",
              " 4          1588\n",
              "            ... \n",
              " 1000204     466\n",
              " 1000205     466\n",
              " 1000206     466\n",
              " 1000207     466\n",
              " 1000208     466\n",
              " Name: zipcode, Length: 1000209, dtype: int64}"
            ]
          },
          "metadata": {
            "tags": []
          },
          "execution_count": 29
        }
      ]
    },
    {
      "cell_type": "markdown",
      "metadata": {
        "id": "a43IdHMXUQGY",
        "colab_type": "text"
      },
      "source": [
        "## 6. Define Device & Model"
      ]
    },
    {
      "cell_type": "code",
      "metadata": {
        "id": "-CECrdhKTbWQ",
        "colab_type": "code",
        "outputId": "9d769502-91c8-4779-c8cb-10ddc578136f",
        "colab": {
          "base_uri": "https://localhost:8080/",
          "height": 35
        }
      },
      "source": [
        "device = 'cpu'\n",
        "use_cuda = True\n",
        "if use_cuda and torch.cuda.is_available():\n",
        "    print('cuda ready...')\n",
        "    device = 'cuda:0'"
      ],
      "execution_count": 30,
      "outputs": [
        {
          "output_type": "stream",
          "text": [
            "cuda ready...\n"
          ],
          "name": "stdout"
        }
      ]
    },
    {
      "cell_type": "code",
      "metadata": {
        "id": "JhmJw74NTcE7",
        "colab_type": "code",
        "outputId": "dc300828-3270-44e0-e64b-1f0c705d52e5",
        "colab": {
          "base_uri": "https://localhost:8080/",
          "height": 647
        }
      },
      "source": [
        "model = WDL(linear_feature_columns, \n",
        "            dnn_feature_columns, \n",
        "            task='regression', \n",
        "            device=device)\n",
        "model"
      ],
      "execution_count": 31,
      "outputs": [
        {
          "output_type": "execute_result",
          "data": {
            "text/plain": [
              "WDL(\n",
              "  (embedding_dict): ModuleDict(\n",
              "    (Age): Embedding(7, 6)\n",
              "    (Gender): Embedding(2, 6)\n",
              "    (Occupation): Embedding(21, 12)\n",
              "    (genre): Embedding(19, 12)\n",
              "    (iid): Embedding(3706, 42)\n",
              "    (uid): Embedding(6040, 48)\n",
              "    (zipcode): Embedding(3439, 42)\n",
              "  )\n",
              "  (linear_model): Linear(\n",
              "    (embedding_dict): ModuleDict(\n",
              "      (Age): Embedding(7, 1)\n",
              "      (Gender): Embedding(2, 1)\n",
              "      (Occupation): Embedding(21, 1)\n",
              "      (genre): Embedding(19, 1)\n",
              "      (iid): Embedding(3706, 1)\n",
              "      (uid): Embedding(6040, 1)\n",
              "      (zipcode): Embedding(3439, 1)\n",
              "    )\n",
              "  )\n",
              "  (out): PredictionLayer()\n",
              "  (dnn): DNN(\n",
              "    (dropout): Dropout(p=0, inplace=False)\n",
              "    (linears): ModuleList(\n",
              "      (0): Linear(in_features=168, out_features=256, bias=True)\n",
              "      (1): Linear(in_features=256, out_features=128, bias=True)\n",
              "    )\n",
              "    (activation_layers): ModuleList(\n",
              "      (0): ReLU(inplace=True)\n",
              "      (1): ReLU(inplace=True)\n",
              "    )\n",
              "  )\n",
              "  (dnn_linear): Linear(in_features=128, out_features=1, bias=False)\n",
              ")"
            ]
          },
          "metadata": {
            "tags": []
          },
          "execution_count": 31
        }
      ]
    },
    {
      "cell_type": "code",
      "metadata": {
        "id": "8Jw3u8oDUlKq",
        "colab_type": "code",
        "colab": {}
      },
      "source": [
        "# https://github.com/shenweichen/DeepCTR-Torch/blob/master/deepctr_torch/models/basemodel.py\n",
        "model.compile(\"adam\", \n",
        "              \"mse\", \n",
        "              metrics=['mse'], )"
      ],
      "execution_count": 0,
      "outputs": []
    },
    {
      "cell_type": "markdown",
      "metadata": {
        "id": "ULRlVlVsUyTn",
        "colab_type": "text"
      },
      "source": [
        "## 7. Evaulate & Predict"
      ]
    },
    {
      "cell_type": "code",
      "metadata": {
        "id": "48VpYu4_UuMN",
        "colab_type": "code",
        "outputId": "915d704b-99d9-472a-ecf3-dd9f57b4b13f",
        "colab": {
          "base_uri": "https://localhost:8080/",
          "height": 593
        }
      },
      "source": [
        "history = model.fit(model_input,\n",
        "                    data[target].values,\n",
        "                    batch_size=256, \n",
        "                    epochs=10, \n",
        "                    verbose=1, \n",
        "                    validation_split=0.2)"
      ],
      "execution_count": 33,
      "outputs": [
        {
          "output_type": "stream",
          "text": [
            "\r0it [00:00, ?it/s]"
          ],
          "name": "stderr"
        },
        {
          "output_type": "stream",
          "text": [
            "cuda:0\n",
            "Train on 800167 samples, validate on 200042 samples, 3126 steps per epoch\n"
          ],
          "name": "stdout"
        },
        {
          "output_type": "stream",
          "text": [
            "3126it [00:32, 95.13it/s]\n"
          ],
          "name": "stderr"
        },
        {
          "output_type": "stream",
          "text": [
            "Epoch 1/10\n"
          ],
          "name": "stdout"
        },
        {
          "output_type": "stream",
          "text": [
            "4it [00:00, 39.13it/s]"
          ],
          "name": "stderr"
        },
        {
          "output_type": "stream",
          "text": [
            "32s - loss:  0.9661 - mse:  0.9661 - val_mse:  0.9919\n"
          ],
          "name": "stdout"
        },
        {
          "output_type": "stream",
          "text": [
            "3126it [00:32, 94.84it/s]\n"
          ],
          "name": "stderr"
        },
        {
          "output_type": "stream",
          "text": [
            "Epoch 2/10\n"
          ],
          "name": "stdout"
        },
        {
          "output_type": "stream",
          "text": [
            "5it [00:00, 46.58it/s]"
          ],
          "name": "stderr"
        },
        {
          "output_type": "stream",
          "text": [
            "32s - loss:  0.8363 - mse:  0.8363 - val_mse:  0.9823\n"
          ],
          "name": "stdout"
        },
        {
          "output_type": "stream",
          "text": [
            "3126it [00:32, 95.50it/s]\n"
          ],
          "name": "stderr"
        },
        {
          "output_type": "stream",
          "text": [
            "Epoch 3/10\n"
          ],
          "name": "stdout"
        },
        {
          "output_type": "stream",
          "text": [
            "4it [00:00, 36.31it/s]"
          ],
          "name": "stderr"
        },
        {
          "output_type": "stream",
          "text": [
            "32s - loss:  0.8300 - mse:  0.8300 - val_mse:  0.9838\n"
          ],
          "name": "stdout"
        },
        {
          "output_type": "stream",
          "text": [
            "3126it [00:32, 95.25it/s]\n"
          ],
          "name": "stderr"
        },
        {
          "output_type": "stream",
          "text": [
            "Epoch 4/10\n"
          ],
          "name": "stdout"
        },
        {
          "output_type": "stream",
          "text": [
            "4it [00:00, 38.07it/s]"
          ],
          "name": "stderr"
        },
        {
          "output_type": "stream",
          "text": [
            "32s - loss:  0.8247 - mse:  0.8248 - val_mse:  0.9834\n"
          ],
          "name": "stdout"
        },
        {
          "output_type": "stream",
          "text": [
            "3126it [00:32, 94.10it/s]\n"
          ],
          "name": "stderr"
        },
        {
          "output_type": "stream",
          "text": [
            "Epoch 5/10\n"
          ],
          "name": "stdout"
        },
        {
          "output_type": "stream",
          "text": [
            "4it [00:00, 38.87it/s]"
          ],
          "name": "stderr"
        },
        {
          "output_type": "stream",
          "text": [
            "32s - loss:  0.8089 - mse:  0.8089 - val_mse:  0.9960\n"
          ],
          "name": "stdout"
        },
        {
          "output_type": "stream",
          "text": [
            "3126it [00:32, 97.31it/s] \n"
          ],
          "name": "stderr"
        },
        {
          "output_type": "stream",
          "text": [
            "Epoch 6/10\n"
          ],
          "name": "stdout"
        },
        {
          "output_type": "stream",
          "text": [
            "4it [00:00, 39.51it/s]"
          ],
          "name": "stderr"
        },
        {
          "output_type": "stream",
          "text": [
            "32s - loss:  0.7887 - mse:  0.7887 - val_mse:  0.9856\n"
          ],
          "name": "stdout"
        },
        {
          "output_type": "stream",
          "text": [
            "3126it [00:32, 95.31it/s]\n"
          ],
          "name": "stderr"
        },
        {
          "output_type": "stream",
          "text": [
            "Epoch 7/10\n"
          ],
          "name": "stdout"
        },
        {
          "output_type": "stream",
          "text": [
            "5it [00:00, 46.27it/s]"
          ],
          "name": "stderr"
        },
        {
          "output_type": "stream",
          "text": [
            "32s - loss:  0.7671 - mse:  0.7671 - val_mse:  1.0286\n"
          ],
          "name": "stdout"
        },
        {
          "output_type": "stream",
          "text": [
            "3126it [00:32, 96.73it/s] \n"
          ],
          "name": "stderr"
        },
        {
          "output_type": "stream",
          "text": [
            "Epoch 8/10\n"
          ],
          "name": "stdout"
        },
        {
          "output_type": "stream",
          "text": [
            "5it [00:00, 46.32it/s]"
          ],
          "name": "stderr"
        },
        {
          "output_type": "stream",
          "text": [
            "32s - loss:  0.7486 - mse:  0.7486 - val_mse:  0.9974\n"
          ],
          "name": "stdout"
        },
        {
          "output_type": "stream",
          "text": [
            "3126it [00:32, 96.53it/s]\n"
          ],
          "name": "stderr"
        },
        {
          "output_type": "stream",
          "text": [
            "Epoch 9/10\n"
          ],
          "name": "stdout"
        },
        {
          "output_type": "stream",
          "text": [
            "6it [00:00, 55.32it/s]"
          ],
          "name": "stderr"
        },
        {
          "output_type": "stream",
          "text": [
            "32s - loss:  0.7346 - mse:  0.7346 - val_mse:  1.0010\n"
          ],
          "name": "stdout"
        },
        {
          "output_type": "stream",
          "text": [
            "3126it [00:31, 98.39it/s] \n"
          ],
          "name": "stderr"
        },
        {
          "output_type": "stream",
          "text": [
            "Epoch 10/10\n",
            "31s - loss:  0.7213 - mse:  0.7213 - val_mse:  1.0120\n"
          ],
          "name": "stdout"
        }
      ]
    },
    {
      "cell_type": "code",
      "metadata": {
        "id": "LVLCLnagb13O",
        "colab_type": "code",
        "colab": {}
      },
      "source": [
        ""
      ],
      "execution_count": 0,
      "outputs": []
    },
    {
      "cell_type": "markdown",
      "metadata": {
        "id": "S6KDf18QlVMk",
        "colab_type": "text"
      },
      "source": [
        ""
      ]
    }
  ]
}