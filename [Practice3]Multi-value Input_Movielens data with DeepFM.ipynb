{
 "cells": [
  {
   "cell_type": "code",
   "execution_count": 1,
   "metadata": {},
   "outputs": [],
   "source": [
    "import numpy as np\n",
    "import pandas as pd\n",
    "from sklearn.preprocessing import LabelEncoder\n",
    "from tensorflow.python.keras.preprocessing.sequence import pad_sequences\n",
    "\n",
    "from deepctr_torch.models import DeepFM\n",
    "from deepctr_torch.inputs import SparseFeat, VarLenSparseFeat,get_feature_names"
   ]
  },
  {
   "cell_type": "code",
   "execution_count": 2,
   "metadata": {},
   "outputs": [],
   "source": [
    "def split(x):\n",
    "    key_ans = x.split('|')\n",
    "    for key in key_ans:\n",
    "        if key not in key2index:\n",
    "            # Notice : input value 0 is a special \"padding\",so we do not use 0 to encode valid feature for sequence input\n",
    "            key2index[key] = len(key2index) + 1\n",
    "    return list(map(lambda x: key2index[x], key_ans))"
   ]
  },
  {
   "cell_type": "code",
   "execution_count": 3,
   "metadata": {},
   "outputs": [],
   "source": [
    "data = pd.read_csv(\"./examples/movielens_sample.txt\")\n",
    "sparse_features = [\"movie_id\", \"user_id\",\n",
    "                   \"gender\", \"age\", \"occupation\", \"zip\", ]\n",
    "target = ['rating']"
   ]
  },
  {
   "cell_type": "code",
   "execution_count": 4,
   "metadata": {},
   "outputs": [
    {
     "data": {
      "text/html": [
       "<div>\n",
       "<style scoped>\n",
       "    .dataframe tbody tr th:only-of-type {\n",
       "        vertical-align: middle;\n",
       "    }\n",
       "\n",
       "    .dataframe tbody tr th {\n",
       "        vertical-align: top;\n",
       "    }\n",
       "\n",
       "    .dataframe thead th {\n",
       "        text-align: right;\n",
       "    }\n",
       "</style>\n",
       "<table border=\"1\" class=\"dataframe\">\n",
       "  <thead>\n",
       "    <tr style=\"text-align: right;\">\n",
       "      <th></th>\n",
       "      <th>user_id</th>\n",
       "      <th>movie_id</th>\n",
       "      <th>rating</th>\n",
       "      <th>timestamp</th>\n",
       "      <th>title</th>\n",
       "      <th>genres</th>\n",
       "      <th>gender</th>\n",
       "      <th>age</th>\n",
       "      <th>occupation</th>\n",
       "      <th>zip</th>\n",
       "    </tr>\n",
       "  </thead>\n",
       "  <tbody>\n",
       "    <tr>\n",
       "      <th>0</th>\n",
       "      <td>3299</td>\n",
       "      <td>235</td>\n",
       "      <td>4</td>\n",
       "      <td>968035345</td>\n",
       "      <td>Ed Wood (1994)</td>\n",
       "      <td>Comedy|Drama</td>\n",
       "      <td>F</td>\n",
       "      <td>25</td>\n",
       "      <td>4</td>\n",
       "      <td>19119</td>\n",
       "    </tr>\n",
       "    <tr>\n",
       "      <th>1</th>\n",
       "      <td>3630</td>\n",
       "      <td>3256</td>\n",
       "      <td>3</td>\n",
       "      <td>966536874</td>\n",
       "      <td>Patriot Games (1992)</td>\n",
       "      <td>Action|Thriller</td>\n",
       "      <td>M</td>\n",
       "      <td>18</td>\n",
       "      <td>4</td>\n",
       "      <td>77005</td>\n",
       "    </tr>\n",
       "    <tr>\n",
       "      <th>2</th>\n",
       "      <td>517</td>\n",
       "      <td>105</td>\n",
       "      <td>4</td>\n",
       "      <td>976203603</td>\n",
       "      <td>Bridges of Madison County, The (1995)</td>\n",
       "      <td>Drama|Romance</td>\n",
       "      <td>F</td>\n",
       "      <td>25</td>\n",
       "      <td>14</td>\n",
       "      <td>55408</td>\n",
       "    </tr>\n",
       "    <tr>\n",
       "      <th>3</th>\n",
       "      <td>785</td>\n",
       "      <td>2115</td>\n",
       "      <td>3</td>\n",
       "      <td>975430389</td>\n",
       "      <td>Indiana Jones and the Temple of Doom (1984)</td>\n",
       "      <td>Action|Adventure</td>\n",
       "      <td>M</td>\n",
       "      <td>18</td>\n",
       "      <td>19</td>\n",
       "      <td>29307</td>\n",
       "    </tr>\n",
       "    <tr>\n",
       "      <th>4</th>\n",
       "      <td>5848</td>\n",
       "      <td>909</td>\n",
       "      <td>5</td>\n",
       "      <td>957782527</td>\n",
       "      <td>Apartment, The (1960)</td>\n",
       "      <td>Comedy|Drama</td>\n",
       "      <td>M</td>\n",
       "      <td>50</td>\n",
       "      <td>20</td>\n",
       "      <td>20009</td>\n",
       "    </tr>\n",
       "  </tbody>\n",
       "</table>\n",
       "</div>"
      ],
      "text/plain": [
       "   user_id  movie_id  rating  timestamp  \\\n",
       "0     3299       235       4  968035345   \n",
       "1     3630      3256       3  966536874   \n",
       "2      517       105       4  976203603   \n",
       "3      785      2115       3  975430389   \n",
       "4     5848       909       5  957782527   \n",
       "\n",
       "                                         title            genres gender  age  \\\n",
       "0                               Ed Wood (1994)      Comedy|Drama      F   25   \n",
       "1                         Patriot Games (1992)   Action|Thriller      M   18   \n",
       "2        Bridges of Madison County, The (1995)     Drama|Romance      F   25   \n",
       "3  Indiana Jones and the Temple of Doom (1984)  Action|Adventure      M   18   \n",
       "4                        Apartment, The (1960)      Comedy|Drama      M   50   \n",
       "\n",
       "   occupation    zip  \n",
       "0           4  19119  \n",
       "1           4  77005  \n",
       "2          14  55408  \n",
       "3          19  29307  \n",
       "4          20  20009  "
      ]
     },
     "execution_count": 4,
     "metadata": {},
     "output_type": "execute_result"
    }
   ],
   "source": [
    "data.head()"
   ]
  },
  {
   "cell_type": "code",
   "execution_count": 5,
   "metadata": {},
   "outputs": [
    {
     "data": {
      "text/plain": [
       "(200, 10)"
      ]
     },
     "execution_count": 5,
     "metadata": {},
     "output_type": "execute_result"
    }
   ],
   "source": [
    "data.shape"
   ]
  },
  {
   "cell_type": "markdown",
   "metadata": {},
   "source": [
    "## 1.Label Encoding for sparse features,and process sequence features"
   ]
  },
  {
   "cell_type": "code",
   "execution_count": 6,
   "metadata": {},
   "outputs": [],
   "source": [
    "for feat in sparse_features:\n",
    "    lbe = LabelEncoder() # Encode labels with value between 0 and n_classes-1.\n",
    "    data[feat] = lbe.fit_transform(data[feat])"
   ]
  },
  {
   "cell_type": "code",
   "execution_count": 7,
   "metadata": {},
   "outputs": [
    {
     "data": {
      "text/plain": [
       "0     35\n",
       "1    118\n",
       "2     99\n",
       "3     55\n",
       "4     41\n",
       "Name: zip, dtype: int32"
      ]
     },
     "execution_count": 7,
     "metadata": {},
     "output_type": "execute_result"
    }
   ],
   "source": [
    "data[feat].head()"
   ]
  },
  {
   "cell_type": "code",
   "execution_count": 8,
   "metadata": {},
   "outputs": [],
   "source": [
    "# preprocess the sequence feature\n",
    "\n",
    "key2index = {}\n",
    "genres_list = list(map(split, data['genres'].values))"
   ]
  },
  {
   "cell_type": "code",
   "execution_count": 9,
   "metadata": {},
   "outputs": [
    {
     "data": {
      "text/plain": [
       "[[1, 2], [3, 4], [2, 5], [3, 6], [1, 2], [1]]"
      ]
     },
     "execution_count": 9,
     "metadata": {},
     "output_type": "execute_result"
    }
   ],
   "source": [
    "genres_list[:6] # 각 종류에 맡게"
   ]
  },
  {
   "cell_type": "code",
   "execution_count": 10,
   "metadata": {},
   "outputs": [
    {
     "data": {
      "text/plain": [
       "array([2, 2, 2, 2, 2, 1])"
      ]
     },
     "execution_count": 10,
     "metadata": {},
     "output_type": "execute_result"
    }
   ],
   "source": [
    "genres_length = np.array(list(map(len, genres_list)))\n",
    "genres_length[:6]"
   ]
  },
  {
   "cell_type": "code",
   "execution_count": 11,
   "metadata": {},
   "outputs": [
    {
     "data": {
      "text/plain": [
       "5"
      ]
     },
     "execution_count": 11,
     "metadata": {},
     "output_type": "execute_result"
    }
   ],
   "source": [
    "max(genres_length)"
   ]
  },
  {
   "cell_type": "code",
   "execution_count": 12,
   "metadata": {},
   "outputs": [],
   "source": [
    "# Notice : padding=`post' , 0을 앞으로\n",
    "genres_list = pad_sequences(genres_list, maxlen=5, padding='post', )"
   ]
  },
  {
   "cell_type": "code",
   "execution_count": 13,
   "metadata": {},
   "outputs": [
    {
     "data": {
      "text/plain": [
       "array([[1, 2, 0, 0, 0],\n",
       "       [3, 4, 0, 0, 0],\n",
       "       [2, 5, 0, 0, 0],\n",
       "       [3, 6, 0, 0, 0],\n",
       "       [1, 2, 0, 0, 0],\n",
       "       [1, 0, 0, 0, 0]])"
      ]
     },
     "execution_count": 13,
     "metadata": {},
     "output_type": "execute_result"
    }
   ],
   "source": [
    "genres_list[0:6]"
   ]
  },
  {
   "cell_type": "markdown",
   "metadata": {},
   "source": [
    "## 2.count #unique features for each sparse field and generate feature config for sequence feature"
   ]
  },
  {
   "cell_type": "code",
   "execution_count": 14,
   "metadata": {},
   "outputs": [
    {
     "data": {
      "text/plain": [
       "[SparseFeat(name='movie_id', dimension=187, use_hash=False, dtype='int32', embedding_name='movie_id', embedding=True),\n",
       " SparseFeat(name='user_id', dimension=193, use_hash=False, dtype='int32', embedding_name='user_id', embedding=True),\n",
       " SparseFeat(name='gender', dimension=2, use_hash=False, dtype='int32', embedding_name='gender', embedding=True),\n",
       " SparseFeat(name='age', dimension=7, use_hash=False, dtype='int32', embedding_name='age', embedding=True),\n",
       " SparseFeat(name='occupation', dimension=20, use_hash=False, dtype='int32', embedding_name='occupation', embedding=True),\n",
       " SparseFeat(name='zip', dimension=188, use_hash=False, dtype='int32', embedding_name='zip', embedding=True)]"
      ]
     },
     "execution_count": 14,
     "metadata": {},
     "output_type": "execute_result"
    }
   ],
   "source": [
    "fixlen_feature_columns = [SparseFeat(feat, data[feat].nunique())\n",
    "                    for feat in sparse_features]\n",
    "fixlen_feature_columns"
   ]
  },
  {
   "cell_type": "code",
   "execution_count": 15,
   "metadata": {},
   "outputs": [
    {
     "data": {
      "text/plain": [
       "[VarLenSparseFeat(name='genres', dimension=18, maxlen=5, combiner='mean', use_hash=False, dtype='float32', embedding_name='genres', embedding=True)]"
      ]
     },
     "execution_count": 15,
     "metadata": {},
     "output_type": "execute_result"
    }
   ],
   "source": [
    "varlen_feature_columns = [VarLenSparseFeat('genres', len(\n",
    "    key2index) + 1, 5, 'mean')]  # Notice : value 0 is for padding for sequence input feature\n",
    "varlen_feature_columns"
   ]
  },
  {
   "cell_type": "code",
   "execution_count": 16,
   "metadata": {},
   "outputs": [
    {
     "data": {
      "text/plain": [
       "['movie_id', 'user_id', 'gender', 'age', 'occupation', 'zip', 'genres']"
      ]
     },
     "execution_count": 16,
     "metadata": {},
     "output_type": "execute_result"
    }
   ],
   "source": [
    "linear_feature_columns = fixlen_feature_columns + varlen_feature_columns\n",
    "dnn_feature_columns = fixlen_feature_columns + varlen_feature_columns\n",
    "feature_names = get_feature_names(linear_feature_columns + dnn_feature_columns)\n",
    "feature_names"
   ]
  },
  {
   "cell_type": "markdown",
   "metadata": {},
   "source": [
    "## 3.generate input data for model"
   ]
  },
  {
   "cell_type": "code",
   "execution_count": 17,
   "metadata": {},
   "outputs": [],
   "source": [
    "model_input = {name:data[name] for name in feature_names}\n",
    "model_input['genres'] = genres_list"
   ]
  },
  {
   "cell_type": "code",
   "execution_count": 18,
   "metadata": {},
   "outputs": [
    {
     "data": {
      "text/plain": [
       "{'movie_id': 0       12\n",
       " 1      169\n",
       " 2        6\n",
       " 3      112\n",
       " 4       45\n",
       " 5      146\n",
       " 6       43\n",
       " 7      156\n",
       " 8       30\n",
       " 9      174\n",
       " 10      82\n",
       " 11     173\n",
       " 12      91\n",
       " 13     108\n",
       " 14     132\n",
       " 15      40\n",
       " 16     109\n",
       " 17      31\n",
       " 18     180\n",
       " 19     183\n",
       " 20     129\n",
       " 21      67\n",
       " 22     137\n",
       " 23      87\n",
       " 24     127\n",
       " 25       8\n",
       " 26     104\n",
       " 27     100\n",
       " 28     140\n",
       " 29      25\n",
       "       ... \n",
       " 170     53\n",
       " 171     90\n",
       " 172      5\n",
       " 173    173\n",
       " 174     41\n",
       " 175     59\n",
       " 176    123\n",
       " 177    159\n",
       " 178     48\n",
       " 179    115\n",
       " 180    138\n",
       " 181     63\n",
       " 182     16\n",
       " 183    179\n",
       " 184      3\n",
       " 185     97\n",
       " 186    128\n",
       " 187    186\n",
       " 188    175\n",
       " 189    105\n",
       " 190    169\n",
       " 191     32\n",
       " 192     68\n",
       " 193     18\n",
       " 194     85\n",
       " 195    176\n",
       " 196     89\n",
       " 197    125\n",
       " 198     15\n",
       " 199     86\n",
       " Name: movie_id, Length: 200, dtype: int64}"
      ]
     },
     "execution_count": 18,
     "metadata": {},
     "output_type": "execute_result"
    }
   ],
   "source": [
    "dict(list(model_input.items())[0:1]) "
   ]
  },
  {
   "cell_type": "markdown",
   "metadata": {},
   "source": [
    "## 4.Define Model,compile and train"
   ]
  },
  {
   "cell_type": "code",
   "execution_count": 19,
   "metadata": {},
   "outputs": [
    {
     "data": {
      "text/plain": [
       "DeepFM(\n",
       "  (embedding_dict): ModuleDict(\n",
       "    (age): Embedding(7, 8)\n",
       "    (gender): Embedding(2, 8)\n",
       "    (movie_id): Embedding(187, 8)\n",
       "    (occupation): Embedding(20, 8)\n",
       "    (user_id): Embedding(193, 8)\n",
       "    (zip): Embedding(188, 8)\n",
       "    (genres): EmbeddingBag(18, 8, mode=mean)\n",
       "  )\n",
       "  (linear_model): Linear(\n",
       "    (embedding_dict): ModuleDict(\n",
       "      (age): Embedding(7, 1)\n",
       "      (gender): Embedding(2, 1)\n",
       "      (movie_id): Embedding(187, 1)\n",
       "      (occupation): Embedding(20, 1)\n",
       "      (user_id): Embedding(193, 1)\n",
       "      (zip): Embedding(188, 1)\n",
       "    )\n",
       "  )\n",
       "  (out): PredictionLayer()\n",
       "  (fm): FM()\n",
       "  (dnn): DNN(\n",
       "    (dropout): Dropout(p=0)\n",
       "    (linears): ModuleList(\n",
       "      (0): Linear(in_features=56, out_features=256, bias=True)\n",
       "      (1): Linear(in_features=256, out_features=128, bias=True)\n",
       "    )\n",
       "  )\n",
       "  (dnn_linear): Linear(in_features=128, out_features=1, bias=False)\n",
       ")"
      ]
     },
     "execution_count": 19,
     "metadata": {},
     "output_type": "execute_result"
    }
   ],
   "source": [
    "model = DeepFM(linear_feature_columns,dnn_feature_columns,task='regression')\n",
    "model"
   ]
  },
  {
   "cell_type": "code",
   "execution_count": 20,
   "metadata": {},
   "outputs": [],
   "source": [
    "model.compile(\"adam\", \"mse\", metrics=['mse'], )"
   ]
  },
  {
   "cell_type": "code",
   "execution_count": 21,
   "metadata": {},
   "outputs": [
    {
     "name": "stdout",
     "output_type": "stream",
     "text": [
      "cpu\n",
      "Train on 160 samples, validate on 40 samples, 1 steps per epoch\n",
      "Epoch 1/10\n",
      "0s - loss:  14.0472 - mse:  14.0472 - val_mse:  13.0265\n",
      "Epoch 2/10\n",
      "0s - loss:  13.7911 - mse:  13.7911 - val_mse:  12.7940\n",
      "Epoch 3/10\n",
      "0s - loss:  13.5330 - mse:  13.5330 - val_mse:  12.5695\n",
      "Epoch 4/10\n",
      "0s - loss:  13.2817 - mse:  13.2817 - val_mse:  12.3483\n",
      "Epoch 5/10\n",
      "0s - loss:  13.0318 - mse:  13.0318 - val_mse:  12.1321\n",
      "Epoch 6/10\n",
      "0s - loss:  12.7856 - mse:  12.7856 - val_mse:  11.9213\n",
      "Epoch 7/10\n",
      "0s - loss:  12.5435 - mse:  12.5435 - val_mse:  11.7112\n",
      "Epoch 8/10\n",
      "0s - loss:  12.3012 - mse:  12.3012 - val_mse:  11.4986\n",
      "Epoch 9/10\n",
      "0s - loss:  12.0546 - mse:  12.0546 - val_mse:  11.2756\n",
      "Epoch 10/10\n",
      "0s - loss:  11.7953 - mse:  11.7953 - val_mse:  11.0419\n"
     ]
    }
   ],
   "source": [
    "history = model.fit(model_input, data[target].values,\n",
    "                    batch_size=256, epochs=10, verbose=2, validation_split=0.2, )"
   ]
  },
  {
   "cell_type": "code",
   "execution_count": null,
   "metadata": {},
   "outputs": [],
   "source": []
  }
 ],
 "metadata": {
  "kernelspec": {
   "display_name": "Python 3",
   "language": "python",
   "name": "python3"
  },
  "language_info": {
   "codemirror_mode": {
    "name": "ipython",
    "version": 3
   },
   "file_extension": ".py",
   "mimetype": "text/x-python",
   "name": "python",
   "nbconvert_exporter": "python",
   "pygments_lexer": "ipython3",
   "version": "3.7.3"
  }
 },
 "nbformat": 4,
 "nbformat_minor": 2
}
