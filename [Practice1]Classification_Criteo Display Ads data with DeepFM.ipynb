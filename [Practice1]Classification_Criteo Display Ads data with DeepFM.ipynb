{
 "cells": [
  {
   "cell_type": "markdown",
   "metadata": {},
   "source": [
    "## 설치\n",
    "python 3.5~3.7  \n",
    "$ pip install deepctr[gpu]"
   ]
  },
  {
   "cell_type": "markdown",
   "metadata": {},
   "source": [
    "## DeepCTR의 4가지 단계\n",
    "- DeepFM: A Factorization-Machine based Neural Network for CTR Prediction 논문을 예시로 들 예정입니다\n",
    "\n",
    "- 참고 : https://www.ijcai.org/Proceedings/2017/0239.pdf\n",
    "\n",
    "- 다룰 샘플 데이터는 Criteo Display Ads 데이터이며, 광고 클릭률 예측을 하는 것이 목적입니다.\n",
    "\n",
    "    - 13개의 정수 feature, 26개의 범주형 feature들을 가지고 있습니다.(26 categorical features where each category has a high cardinality.)\n",
    "    - Task는 이진분류입니다"
   ]
  },
  {
   "cell_type": "markdown",
   "metadata": {},
   "source": [
    "### Step 1 : import model & sample data fillna"
   ]
  },
  {
   "cell_type": "code",
   "execution_count": 24,
   "metadata": {},
   "outputs": [],
   "source": [
    "import warnings\n",
    "warnings.filterwarnings(action='ignore')\n",
    "\n",
    "import pandas as pd\n",
    "from sklearn.preprocessing import LabelEncoder, MinMaxScaler\n",
    "from sklearn.model_selection import train_test_split\n",
    "from sklearn.metrics import log_loss, roc_auc_score\n",
    "from deepctr_torch.models import DeepFM\n",
    "from deepctr_torch.inputs import  SparseFeat, DenseFeat,get_feature_names\n",
    "import torch"
   ]
  },
  {
   "cell_type": "code",
   "execution_count": 2,
   "metadata": {},
   "outputs": [],
   "source": [
    "data = pd.read_csv('./examples/criteo_sample.txt')"
   ]
  },
  {
   "cell_type": "code",
   "execution_count": 3,
   "metadata": {},
   "outputs": [
    {
     "data": {
      "text/html": [
       "<div>\n",
       "<style scoped>\n",
       "    .dataframe tbody tr th:only-of-type {\n",
       "        vertical-align: middle;\n",
       "    }\n",
       "\n",
       "    .dataframe tbody tr th {\n",
       "        vertical-align: top;\n",
       "    }\n",
       "\n",
       "    .dataframe thead th {\n",
       "        text-align: right;\n",
       "    }\n",
       "</style>\n",
       "<table border=\"1\" class=\"dataframe\">\n",
       "  <thead>\n",
       "    <tr style=\"text-align: right;\">\n",
       "      <th></th>\n",
       "      <th>label</th>\n",
       "      <th>I1</th>\n",
       "      <th>I2</th>\n",
       "      <th>I3</th>\n",
       "      <th>I4</th>\n",
       "      <th>I5</th>\n",
       "      <th>I6</th>\n",
       "      <th>I7</th>\n",
       "      <th>I8</th>\n",
       "      <th>I9</th>\n",
       "      <th>...</th>\n",
       "      <th>C17</th>\n",
       "      <th>C18</th>\n",
       "      <th>C19</th>\n",
       "      <th>C20</th>\n",
       "      <th>C21</th>\n",
       "      <th>C22</th>\n",
       "      <th>C23</th>\n",
       "      <th>C24</th>\n",
       "      <th>C25</th>\n",
       "      <th>C26</th>\n",
       "    </tr>\n",
       "  </thead>\n",
       "  <tbody>\n",
       "    <tr>\n",
       "      <th>0</th>\n",
       "      <td>0</td>\n",
       "      <td>NaN</td>\n",
       "      <td>3</td>\n",
       "      <td>260.0</td>\n",
       "      <td>NaN</td>\n",
       "      <td>17668.0</td>\n",
       "      <td>NaN</td>\n",
       "      <td>NaN</td>\n",
       "      <td>33.0</td>\n",
       "      <td>NaN</td>\n",
       "      <td>...</td>\n",
       "      <td>e5ba7672</td>\n",
       "      <td>87c6f83c</td>\n",
       "      <td>NaN</td>\n",
       "      <td>NaN</td>\n",
       "      <td>0429f84b</td>\n",
       "      <td>NaN</td>\n",
       "      <td>3a171ecb</td>\n",
       "      <td>c0d61a5c</td>\n",
       "      <td>NaN</td>\n",
       "      <td>NaN</td>\n",
       "    </tr>\n",
       "    <tr>\n",
       "      <th>1</th>\n",
       "      <td>0</td>\n",
       "      <td>NaN</td>\n",
       "      <td>-1</td>\n",
       "      <td>19.0</td>\n",
       "      <td>35.0</td>\n",
       "      <td>30251.0</td>\n",
       "      <td>247.0</td>\n",
       "      <td>1.0</td>\n",
       "      <td>35.0</td>\n",
       "      <td>160.0</td>\n",
       "      <td>...</td>\n",
       "      <td>d4bb7bd8</td>\n",
       "      <td>6fc84bfb</td>\n",
       "      <td>NaN</td>\n",
       "      <td>NaN</td>\n",
       "      <td>5155d8a3</td>\n",
       "      <td>NaN</td>\n",
       "      <td>be7c41b4</td>\n",
       "      <td>ded4aac9</td>\n",
       "      <td>NaN</td>\n",
       "      <td>NaN</td>\n",
       "    </tr>\n",
       "    <tr>\n",
       "      <th>2</th>\n",
       "      <td>0</td>\n",
       "      <td>0.0</td>\n",
       "      <td>0</td>\n",
       "      <td>2.0</td>\n",
       "      <td>12.0</td>\n",
       "      <td>2013.0</td>\n",
       "      <td>164.0</td>\n",
       "      <td>6.0</td>\n",
       "      <td>35.0</td>\n",
       "      <td>523.0</td>\n",
       "      <td>...</td>\n",
       "      <td>e5ba7672</td>\n",
       "      <td>675c9258</td>\n",
       "      <td>NaN</td>\n",
       "      <td>NaN</td>\n",
       "      <td>2e01979f</td>\n",
       "      <td>NaN</td>\n",
       "      <td>bcdee96c</td>\n",
       "      <td>6d5d1302</td>\n",
       "      <td>NaN</td>\n",
       "      <td>NaN</td>\n",
       "    </tr>\n",
       "    <tr>\n",
       "      <th>3</th>\n",
       "      <td>0</td>\n",
       "      <td>NaN</td>\n",
       "      <td>13</td>\n",
       "      <td>1.0</td>\n",
       "      <td>4.0</td>\n",
       "      <td>16836.0</td>\n",
       "      <td>200.0</td>\n",
       "      <td>5.0</td>\n",
       "      <td>4.0</td>\n",
       "      <td>29.0</td>\n",
       "      <td>...</td>\n",
       "      <td>e5ba7672</td>\n",
       "      <td>52e44668</td>\n",
       "      <td>NaN</td>\n",
       "      <td>NaN</td>\n",
       "      <td>e587c466</td>\n",
       "      <td>NaN</td>\n",
       "      <td>32c7478e</td>\n",
       "      <td>3b183c5c</td>\n",
       "      <td>NaN</td>\n",
       "      <td>NaN</td>\n",
       "    </tr>\n",
       "    <tr>\n",
       "      <th>4</th>\n",
       "      <td>0</td>\n",
       "      <td>0.0</td>\n",
       "      <td>0</td>\n",
       "      <td>104.0</td>\n",
       "      <td>27.0</td>\n",
       "      <td>1990.0</td>\n",
       "      <td>142.0</td>\n",
       "      <td>4.0</td>\n",
       "      <td>32.0</td>\n",
       "      <td>37.0</td>\n",
       "      <td>...</td>\n",
       "      <td>e5ba7672</td>\n",
       "      <td>25c88e42</td>\n",
       "      <td>21ddcdc9</td>\n",
       "      <td>b1252a9d</td>\n",
       "      <td>0e8585d2</td>\n",
       "      <td>NaN</td>\n",
       "      <td>32c7478e</td>\n",
       "      <td>0d4a6d1a</td>\n",
       "      <td>001f3601</td>\n",
       "      <td>92c878de</td>\n",
       "    </tr>\n",
       "  </tbody>\n",
       "</table>\n",
       "<p>5 rows × 40 columns</p>\n",
       "</div>"
      ],
      "text/plain": [
       "   label   I1  I2     I3    I4       I5     I6   I7    I8     I9  ...  \\\n",
       "0      0  NaN   3  260.0   NaN  17668.0    NaN  NaN  33.0    NaN  ...   \n",
       "1      0  NaN  -1   19.0  35.0  30251.0  247.0  1.0  35.0  160.0  ...   \n",
       "2      0  0.0   0    2.0  12.0   2013.0  164.0  6.0  35.0  523.0  ...   \n",
       "3      0  NaN  13    1.0   4.0  16836.0  200.0  5.0   4.0   29.0  ...   \n",
       "4      0  0.0   0  104.0  27.0   1990.0  142.0  4.0  32.0   37.0  ...   \n",
       "\n",
       "        C17       C18       C19       C20       C21  C22       C23       C24  \\\n",
       "0  e5ba7672  87c6f83c       NaN       NaN  0429f84b  NaN  3a171ecb  c0d61a5c   \n",
       "1  d4bb7bd8  6fc84bfb       NaN       NaN  5155d8a3  NaN  be7c41b4  ded4aac9   \n",
       "2  e5ba7672  675c9258       NaN       NaN  2e01979f  NaN  bcdee96c  6d5d1302   \n",
       "3  e5ba7672  52e44668       NaN       NaN  e587c466  NaN  32c7478e  3b183c5c   \n",
       "4  e5ba7672  25c88e42  21ddcdc9  b1252a9d  0e8585d2  NaN  32c7478e  0d4a6d1a   \n",
       "\n",
       "        C25       C26  \n",
       "0       NaN       NaN  \n",
       "1       NaN       NaN  \n",
       "2       NaN       NaN  \n",
       "3       NaN       NaN  \n",
       "4  001f3601  92c878de  \n",
       "\n",
       "[5 rows x 40 columns]"
      ]
     },
     "execution_count": 3,
     "metadata": {},
     "output_type": "execute_result"
    }
   ],
   "source": [
    "data.head()"
   ]
  },
  {
   "cell_type": "code",
   "execution_count": 4,
   "metadata": {},
   "outputs": [
    {
     "data": {
      "text/plain": [
       "(200, 40)"
      ]
     },
     "execution_count": 4,
     "metadata": {},
     "output_type": "execute_result"
    }
   ],
   "source": [
    "data.shape"
   ]
  },
  {
   "cell_type": "code",
   "execution_count": 5,
   "metadata": {},
   "outputs": [
    {
     "data": {
      "text/plain": [
       "0    151\n",
       "1     49\n",
       "Name: label, dtype: int64"
      ]
     },
     "execution_count": 5,
     "metadata": {},
     "output_type": "execute_result"
    }
   ],
   "source": [
    "data['label'].value_counts()"
   ]
  },
  {
   "cell_type": "code",
   "execution_count": 6,
   "metadata": {},
   "outputs": [
    {
     "name": "stdout",
     "output_type": "stream",
     "text": [
      "['C1', 'C2', 'C3', 'C4', 'C5', 'C6', 'C7', 'C8', 'C9', 'C10', 'C11', 'C12', 'C13', 'C14', 'C15', 'C16', 'C17', 'C18', 'C19', 'C20', 'C21', 'C22', 'C23', 'C24', 'C25', 'C26'] ['I1', 'I2', 'I3', 'I4', 'I5', 'I6', 'I7', 'I8', 'I9', 'I10', 'I11', 'I12', 'I13']\n"
     ]
    }
   ],
   "source": [
    "sparse_features = ['C' + str(i) for i in range(1, 27)]\n",
    "dense_features = ['I'+str(i) for i in range(1, 14)]\n",
    "print(sparse_features, dense_features)"
   ]
  },
  {
   "cell_type": "code",
   "execution_count": 7,
   "metadata": {},
   "outputs": [
    {
     "data": {
      "text/html": [
       "<div>\n",
       "<style scoped>\n",
       "    .dataframe tbody tr th:only-of-type {\n",
       "        vertical-align: middle;\n",
       "    }\n",
       "\n",
       "    .dataframe tbody tr th {\n",
       "        vertical-align: top;\n",
       "    }\n",
       "\n",
       "    .dataframe thead th {\n",
       "        text-align: right;\n",
       "    }\n",
       "</style>\n",
       "<table border=\"1\" class=\"dataframe\">\n",
       "  <thead>\n",
       "    <tr style=\"text-align: right;\">\n",
       "      <th></th>\n",
       "      <th>label</th>\n",
       "      <th>I1</th>\n",
       "      <th>I2</th>\n",
       "      <th>I3</th>\n",
       "      <th>I4</th>\n",
       "      <th>I5</th>\n",
       "      <th>I6</th>\n",
       "      <th>I7</th>\n",
       "      <th>I8</th>\n",
       "      <th>I9</th>\n",
       "      <th>...</th>\n",
       "      <th>C17</th>\n",
       "      <th>C18</th>\n",
       "      <th>C19</th>\n",
       "      <th>C20</th>\n",
       "      <th>C21</th>\n",
       "      <th>C22</th>\n",
       "      <th>C23</th>\n",
       "      <th>C24</th>\n",
       "      <th>C25</th>\n",
       "      <th>C26</th>\n",
       "    </tr>\n",
       "  </thead>\n",
       "  <tbody>\n",
       "    <tr>\n",
       "      <th>0</th>\n",
       "      <td>0</td>\n",
       "      <td>0.0</td>\n",
       "      <td>3</td>\n",
       "      <td>260.0</td>\n",
       "      <td>0.0</td>\n",
       "      <td>17668.0</td>\n",
       "      <td>0.0</td>\n",
       "      <td>0.0</td>\n",
       "      <td>33.0</td>\n",
       "      <td>0.0</td>\n",
       "      <td>...</td>\n",
       "      <td>e5ba7672</td>\n",
       "      <td>87c6f83c</td>\n",
       "      <td>-1</td>\n",
       "      <td>-1</td>\n",
       "      <td>0429f84b</td>\n",
       "      <td>-1</td>\n",
       "      <td>3a171ecb</td>\n",
       "      <td>c0d61a5c</td>\n",
       "      <td>-1</td>\n",
       "      <td>-1</td>\n",
       "    </tr>\n",
       "    <tr>\n",
       "      <th>1</th>\n",
       "      <td>0</td>\n",
       "      <td>0.0</td>\n",
       "      <td>-1</td>\n",
       "      <td>19.0</td>\n",
       "      <td>35.0</td>\n",
       "      <td>30251.0</td>\n",
       "      <td>247.0</td>\n",
       "      <td>1.0</td>\n",
       "      <td>35.0</td>\n",
       "      <td>160.0</td>\n",
       "      <td>...</td>\n",
       "      <td>d4bb7bd8</td>\n",
       "      <td>6fc84bfb</td>\n",
       "      <td>-1</td>\n",
       "      <td>-1</td>\n",
       "      <td>5155d8a3</td>\n",
       "      <td>-1</td>\n",
       "      <td>be7c41b4</td>\n",
       "      <td>ded4aac9</td>\n",
       "      <td>-1</td>\n",
       "      <td>-1</td>\n",
       "    </tr>\n",
       "    <tr>\n",
       "      <th>2</th>\n",
       "      <td>0</td>\n",
       "      <td>0.0</td>\n",
       "      <td>0</td>\n",
       "      <td>2.0</td>\n",
       "      <td>12.0</td>\n",
       "      <td>2013.0</td>\n",
       "      <td>164.0</td>\n",
       "      <td>6.0</td>\n",
       "      <td>35.0</td>\n",
       "      <td>523.0</td>\n",
       "      <td>...</td>\n",
       "      <td>e5ba7672</td>\n",
       "      <td>675c9258</td>\n",
       "      <td>-1</td>\n",
       "      <td>-1</td>\n",
       "      <td>2e01979f</td>\n",
       "      <td>-1</td>\n",
       "      <td>bcdee96c</td>\n",
       "      <td>6d5d1302</td>\n",
       "      <td>-1</td>\n",
       "      <td>-1</td>\n",
       "    </tr>\n",
       "    <tr>\n",
       "      <th>3</th>\n",
       "      <td>0</td>\n",
       "      <td>0.0</td>\n",
       "      <td>13</td>\n",
       "      <td>1.0</td>\n",
       "      <td>4.0</td>\n",
       "      <td>16836.0</td>\n",
       "      <td>200.0</td>\n",
       "      <td>5.0</td>\n",
       "      <td>4.0</td>\n",
       "      <td>29.0</td>\n",
       "      <td>...</td>\n",
       "      <td>e5ba7672</td>\n",
       "      <td>52e44668</td>\n",
       "      <td>-1</td>\n",
       "      <td>-1</td>\n",
       "      <td>e587c466</td>\n",
       "      <td>-1</td>\n",
       "      <td>32c7478e</td>\n",
       "      <td>3b183c5c</td>\n",
       "      <td>-1</td>\n",
       "      <td>-1</td>\n",
       "    </tr>\n",
       "    <tr>\n",
       "      <th>4</th>\n",
       "      <td>0</td>\n",
       "      <td>0.0</td>\n",
       "      <td>0</td>\n",
       "      <td>104.0</td>\n",
       "      <td>27.0</td>\n",
       "      <td>1990.0</td>\n",
       "      <td>142.0</td>\n",
       "      <td>4.0</td>\n",
       "      <td>32.0</td>\n",
       "      <td>37.0</td>\n",
       "      <td>...</td>\n",
       "      <td>e5ba7672</td>\n",
       "      <td>25c88e42</td>\n",
       "      <td>21ddcdc9</td>\n",
       "      <td>b1252a9d</td>\n",
       "      <td>0e8585d2</td>\n",
       "      <td>-1</td>\n",
       "      <td>32c7478e</td>\n",
       "      <td>0d4a6d1a</td>\n",
       "      <td>001f3601</td>\n",
       "      <td>92c878de</td>\n",
       "    </tr>\n",
       "  </tbody>\n",
       "</table>\n",
       "<p>5 rows × 40 columns</p>\n",
       "</div>"
      ],
      "text/plain": [
       "   label   I1  I2     I3    I4       I5     I6   I7    I8     I9  ...  \\\n",
       "0      0  0.0   3  260.0   0.0  17668.0    0.0  0.0  33.0    0.0  ...   \n",
       "1      0  0.0  -1   19.0  35.0  30251.0  247.0  1.0  35.0  160.0  ...   \n",
       "2      0  0.0   0    2.0  12.0   2013.0  164.0  6.0  35.0  523.0  ...   \n",
       "3      0  0.0  13    1.0   4.0  16836.0  200.0  5.0   4.0   29.0  ...   \n",
       "4      0  0.0   0  104.0  27.0   1990.0  142.0  4.0  32.0   37.0  ...   \n",
       "\n",
       "        C17       C18       C19       C20       C21 C22       C23       C24  \\\n",
       "0  e5ba7672  87c6f83c        -1        -1  0429f84b  -1  3a171ecb  c0d61a5c   \n",
       "1  d4bb7bd8  6fc84bfb        -1        -1  5155d8a3  -1  be7c41b4  ded4aac9   \n",
       "2  e5ba7672  675c9258        -1        -1  2e01979f  -1  bcdee96c  6d5d1302   \n",
       "3  e5ba7672  52e44668        -1        -1  e587c466  -1  32c7478e  3b183c5c   \n",
       "4  e5ba7672  25c88e42  21ddcdc9  b1252a9d  0e8585d2  -1  32c7478e  0d4a6d1a   \n",
       "\n",
       "        C25       C26  \n",
       "0        -1        -1  \n",
       "1        -1        -1  \n",
       "2        -1        -1  \n",
       "3        -1        -1  \n",
       "4  001f3601  92c878de  \n",
       "\n",
       "[5 rows x 40 columns]"
      ]
     },
     "execution_count": 7,
     "metadata": {},
     "output_type": "execute_result"
    }
   ],
   "source": [
    "data[sparse_features] = data[sparse_features].fillna('-1', ) # 왜 이러한 값으로 보정했는지는 모름\n",
    "data[dense_features] = data[dense_features].fillna(0,)\n",
    "target = ['label']\n",
    "\n",
    "data.head()"
   ]
  },
  {
   "cell_type": "markdown",
   "metadata": {},
   "source": [
    "### Step 2 : 간단한 전처리\n",
    "일반적으로 sparse한 feature를 임베딩 하는데 두가지 방법이 있습니다. (label encoding, hashing encoding)\n",
    "\n",
    "- label encoding : 정수값으로 매핑을 시킴. 값의 범위는 [0 ~ len(#unique)-1]\n",
    "- hash encoding : 고정 범위 값으로 매핑 (예를 들면, 0 ~ 9999)"
   ]
  },
  {
   "cell_type": "code",
   "execution_count": 8,
   "metadata": {},
   "outputs": [],
   "source": [
    "for feat in sparse_features:\n",
    "    lbe = LabelEncoder()\n",
    "    data[feat] = lbe.fit_transform(data[feat])"
   ]
  },
  {
   "cell_type": "code",
   "execution_count": 9,
   "metadata": {},
   "outputs": [
    {
     "data": {
      "text/plain": [
       "0     0\n",
       "1     0\n",
       "2     0\n",
       "3     0\n",
       "4    47\n",
       "Name: C26, dtype: int32"
      ]
     },
     "execution_count": 9,
     "metadata": {},
     "output_type": "execute_result"
    }
   ],
   "source": [
    "data[feat].head()"
   ]
  },
  {
   "cell_type": "code",
   "execution_count": 10,
   "metadata": {},
   "outputs": [
    {
     "data": {
      "text/plain": [
       "195    48\n",
       "196     0\n",
       "197    11\n",
       "198    49\n",
       "199     0\n",
       "Name: C26, dtype: int32"
      ]
     },
     "execution_count": 10,
     "metadata": {},
     "output_type": "execute_result"
    }
   ],
   "source": [
    "data[feat].tail()"
   ]
  },
  {
   "cell_type": "code",
   "execution_count": 11,
   "metadata": {},
   "outputs": [],
   "source": [
    "mms = MinMaxScaler(feature_range=(0, 1))\n",
    "data[dense_features] = mms.fit_transform(data[dense_features])"
   ]
  },
  {
   "cell_type": "code",
   "execution_count": 12,
   "metadata": {},
   "outputs": [
    {
     "data": {
      "text/html": [
       "<div>\n",
       "<style scoped>\n",
       "    .dataframe tbody tr th:only-of-type {\n",
       "        vertical-align: middle;\n",
       "    }\n",
       "\n",
       "    .dataframe tbody tr th {\n",
       "        vertical-align: top;\n",
       "    }\n",
       "\n",
       "    .dataframe thead th {\n",
       "        text-align: right;\n",
       "    }\n",
       "</style>\n",
       "<table border=\"1\" class=\"dataframe\">\n",
       "  <thead>\n",
       "    <tr style=\"text-align: right;\">\n",
       "      <th></th>\n",
       "      <th>I1</th>\n",
       "      <th>I2</th>\n",
       "      <th>I3</th>\n",
       "      <th>I4</th>\n",
       "      <th>I5</th>\n",
       "      <th>I6</th>\n",
       "      <th>I7</th>\n",
       "      <th>I8</th>\n",
       "      <th>I9</th>\n",
       "      <th>I10</th>\n",
       "      <th>I11</th>\n",
       "      <th>I12</th>\n",
       "      <th>I13</th>\n",
       "    </tr>\n",
       "  </thead>\n",
       "  <tbody>\n",
       "    <tr>\n",
       "      <th>0</th>\n",
       "      <td>0.0</td>\n",
       "      <td>0.001332</td>\n",
       "      <td>0.092362</td>\n",
       "      <td>0.000000</td>\n",
       "      <td>0.034825</td>\n",
       "      <td>0.000000</td>\n",
       "      <td>0.000000</td>\n",
       "      <td>0.673469</td>\n",
       "      <td>0.000000</td>\n",
       "      <td>0.0</td>\n",
       "      <td>0.00000</td>\n",
       "      <td>0.0</td>\n",
       "      <td>0.000000</td>\n",
       "    </tr>\n",
       "    <tr>\n",
       "      <th>1</th>\n",
       "      <td>0.0</td>\n",
       "      <td>0.000000</td>\n",
       "      <td>0.006750</td>\n",
       "      <td>0.402299</td>\n",
       "      <td>0.059628</td>\n",
       "      <td>0.117284</td>\n",
       "      <td>0.003322</td>\n",
       "      <td>0.714286</td>\n",
       "      <td>0.154739</td>\n",
       "      <td>0.0</td>\n",
       "      <td>0.03125</td>\n",
       "      <td>0.0</td>\n",
       "      <td>0.343137</td>\n",
       "    </tr>\n",
       "    <tr>\n",
       "      <th>2</th>\n",
       "      <td>0.0</td>\n",
       "      <td>0.000333</td>\n",
       "      <td>0.000710</td>\n",
       "      <td>0.137931</td>\n",
       "      <td>0.003968</td>\n",
       "      <td>0.077873</td>\n",
       "      <td>0.019934</td>\n",
       "      <td>0.714286</td>\n",
       "      <td>0.505803</td>\n",
       "      <td>0.0</td>\n",
       "      <td>0.09375</td>\n",
       "      <td>0.0</td>\n",
       "      <td>0.176471</td>\n",
       "    </tr>\n",
       "    <tr>\n",
       "      <th>3</th>\n",
       "      <td>0.0</td>\n",
       "      <td>0.004664</td>\n",
       "      <td>0.000355</td>\n",
       "      <td>0.045977</td>\n",
       "      <td>0.033185</td>\n",
       "      <td>0.094967</td>\n",
       "      <td>0.016611</td>\n",
       "      <td>0.081633</td>\n",
       "      <td>0.028046</td>\n",
       "      <td>0.0</td>\n",
       "      <td>0.06250</td>\n",
       "      <td>0.0</td>\n",
       "      <td>0.039216</td>\n",
       "    </tr>\n",
       "    <tr>\n",
       "      <th>4</th>\n",
       "      <td>0.0</td>\n",
       "      <td>0.000333</td>\n",
       "      <td>0.036945</td>\n",
       "      <td>0.310345</td>\n",
       "      <td>0.003922</td>\n",
       "      <td>0.067426</td>\n",
       "      <td>0.013289</td>\n",
       "      <td>0.653061</td>\n",
       "      <td>0.035783</td>\n",
       "      <td>0.0</td>\n",
       "      <td>0.03125</td>\n",
       "      <td>0.0</td>\n",
       "      <td>0.264706</td>\n",
       "    </tr>\n",
       "  </tbody>\n",
       "</table>\n",
       "</div>"
      ],
      "text/plain": [
       "    I1        I2        I3        I4        I5        I6        I7        I8  \\\n",
       "0  0.0  0.001332  0.092362  0.000000  0.034825  0.000000  0.000000  0.673469   \n",
       "1  0.0  0.000000  0.006750  0.402299  0.059628  0.117284  0.003322  0.714286   \n",
       "2  0.0  0.000333  0.000710  0.137931  0.003968  0.077873  0.019934  0.714286   \n",
       "3  0.0  0.004664  0.000355  0.045977  0.033185  0.094967  0.016611  0.081633   \n",
       "4  0.0  0.000333  0.036945  0.310345  0.003922  0.067426  0.013289  0.653061   \n",
       "\n",
       "         I9  I10      I11  I12       I13  \n",
       "0  0.000000  0.0  0.00000  0.0  0.000000  \n",
       "1  0.154739  0.0  0.03125  0.0  0.343137  \n",
       "2  0.505803  0.0  0.09375  0.0  0.176471  \n",
       "3  0.028046  0.0  0.06250  0.0  0.039216  \n",
       "4  0.035783  0.0  0.03125  0.0  0.264706  "
      ]
     },
     "execution_count": 12,
     "metadata": {},
     "output_type": "execute_result"
    }
   ],
   "source": [
    "data[dense_features].head()"
   ]
  },
  {
   "cell_type": "markdown",
   "metadata": {},
   "source": [
    "### Step 3 : 파생변수 생성\n",
    "sparse feature에 대해서 보통 dense하게 임베딩 시키는 방법을 많이 적용합니다.\n",
    "dense numerical feature랑 합쳐서(concatenate)해서 FC(fully connected) Layer에 input을 시킵니다.\n",
    "여기서는 Label Encoding을 실시 합니다."
   ]
  },
  {
   "cell_type": "code",
   "execution_count": 13,
   "metadata": {},
   "outputs": [],
   "source": [
    "sparse_feature_columns = [SparseFeat(feat, data[feat].nunique())\n",
    "                        for feat in sparse_features]\n",
    "dense_feature_columns = [DenseFeat(feat, 1)\n",
    "                      for feat in dense_features]"
   ]
  },
  {
   "cell_type": "code",
   "execution_count": 15,
   "metadata": {},
   "outputs": [
    {
     "data": {
      "text/plain": [
       "[SparseFeat(name='C1', dimension=27, use_hash=False, dtype='int32', embedding_name='C1', embedding=True),\n",
       " SparseFeat(name='C2', dimension=92, use_hash=False, dtype='int32', embedding_name='C2', embedding=True),\n",
       " SparseFeat(name='C3', dimension=172, use_hash=False, dtype='int32', embedding_name='C3', embedding=True),\n",
       " SparseFeat(name='C4', dimension=157, use_hash=False, dtype='int32', embedding_name='C4', embedding=True),\n",
       " SparseFeat(name='C5', dimension=12, use_hash=False, dtype='int32', embedding_name='C5', embedding=True),\n",
       " SparseFeat(name='C6', dimension=7, use_hash=False, dtype='int32', embedding_name='C6', embedding=True)]"
      ]
     },
     "execution_count": 15,
     "metadata": {},
     "output_type": "execute_result"
    }
   ],
   "source": [
    "sparse_feature_columns[:6]"
   ]
  },
  {
   "cell_type": "code",
   "execution_count": 16,
   "metadata": {},
   "outputs": [
    {
     "data": {
      "text/plain": [
       "[DenseFeat(name='I1', dimension=1, dtype='float32'),\n",
       " DenseFeat(name='I2', dimension=1, dtype='float32'),\n",
       " DenseFeat(name='I3', dimension=1, dtype='float32'),\n",
       " DenseFeat(name='I4', dimension=1, dtype='float32'),\n",
       " DenseFeat(name='I5', dimension=1, dtype='float32'),\n",
       " DenseFeat(name='I6', dimension=1, dtype='float32')]"
      ]
     },
     "execution_count": 16,
     "metadata": {},
     "output_type": "execute_result"
    }
   ],
   "source": [
    "dense_feature_columns[:6]"
   ]
  },
  {
   "cell_type": "code",
   "execution_count": 17,
   "metadata": {},
   "outputs": [],
   "source": [
    "dnn_feature_columns = sparse_feature_columns + dense_feature_columns\n",
    "linear_feature_columns = sparse_feature_columns + dense_feature_columns\n",
    "\n",
    "feature_names = get_feature_names(linear_feature_columns + dnn_feature_columns) # C1 ~ I13"
   ]
  },
  {
   "cell_type": "markdown",
   "metadata": {},
   "source": [
    "### Step 4 : 훈련 샘플 데이터 생성하고 모델 훈련 시키기\n",
    "데이터들을 나누고, 인풋을 하기위한 작업을 실시.  \n",
    "deepctr에 있는 인풋 함수들이 매우 다양하므로 잘 활용해보는 것이 중요함"
   ]
  },
  {
   "cell_type": "code",
   "execution_count": 18,
   "metadata": {},
   "outputs": [],
   "source": [
    "train, test = train_test_split(data, test_size=0.2)\n",
    "\n",
    "train_model_input = {name:train[name].values for name in feature_names}\n",
    "test_model_input = {name:test[name].values for name in feature_names}"
   ]
  },
  {
   "cell_type": "code",
   "execution_count": 19,
   "metadata": {},
   "outputs": [
    {
     "data": {
      "text/plain": [
       "{'C1': array([ 0,  7,  0,  0,  0,  0,  0,  0,  0,  0,  0,  6,  0,  9, 16, 11, 14,\n",
       "         0,  3,  0, 11,  0,  0,  0, 14, 17,  0,  0,  0,  0,  0,  9, 16,  0,\n",
       "        10, 21, 11, 11, 18,  0,  1,  0,  0, 16, 21, 16,  0,  5, 25, 11,  0,\n",
       "        10,  0, 11, 23,  0, 11, 16, 21,  0, 11, 16, 11, 11, 16,  0,  4, 21,\n",
       "         0,  6,  0, 25, 11, 18, 11,  1, 11, 16, 11,  2, 16,  0, 11,  0,  0,\n",
       "         7,  0,  0, 16, 13,  6,  0,  0,  0, 11,  0, 11,  3, 26, 11,  9,  0,\n",
       "         0, 11,  0,  9,  0, 21, 10, 11, 11,  0,  0, 10,  0,  0, 16,  0, 11,\n",
       "        16,  0,  0,  9,  0, 11,  0,  9,  0, 11,  0,  0,  9, 11,  6, 18, 11,\n",
       "         0,  0, 21,  0,  0, 11,  0,  0,  0, 16,  0, 19,  9,  0,  0,  0, 12,\n",
       "         0,  0, 21, 10, 16,  0,  0]),\n",
       " 'C2': array([30, 31, 56, 18,  9,  5, 89, 28, 46, 18, 84, 72, 84, 60,  5, 44, 40,\n",
       "        13,  5, 18, 18, 84, 44, 81, 18, 67, 19,  0, 77, 18, 18, 73, 33, 23,\n",
       "        26, 45, 46, 85, 20, 18, 13, 33, 35,  7, 89, 30, 46, 80, 18, 16, 35,\n",
       "        12, 19, 42, 69, 18, 10, 82, 68, 88, 23, 53,  5,  1, 32,  0, 38, 66,\n",
       "        72, 71, 83, 50, 10,  5, 24, 30, 13,  5,  5, 65,  1, 22,  2, 46, 90,\n",
       "        29, 18, 55,  5, 16, 39, 38, 85, 30, 11, 52, 79, 18, 46, 18, 37, 31,\n",
       "        18, 13, 15, 58, 19, 30, 55,  5,  3, 49, 50, 30, 21, 30, 56, 72, 18,\n",
       "        75, 91, 87, 30,  6, 74, 11, 63, 11, 84, 35, 11, 18, 18, 30, 10, 13,\n",
       "        24,  5, 64, 25, 14, 15, 51, 41, 45, 56, 57, 36, 18, 24, 23, 43, 13,\n",
       "        34,  8, 78, 47,  0, 76,  5])}"
      ]
     },
     "execution_count": 19,
     "metadata": {},
     "output_type": "execute_result"
    }
   ],
   "source": [
    "dict(list(train_model_input.items())[0:2]) # dictionary partial하게 보기"
   ]
  },
  {
   "cell_type": "code",
   "execution_count": 20,
   "metadata": {},
   "outputs": [
    {
     "data": {
      "text/plain": [
       "{'I5': array([2.32588852e-04, 4.84888623e-04, 6.24639044e-03, 2.83916087e-02,\n",
       "        1.08015840e-03, 7.54928223e-04, 1.04073656e-03, 2.12700534e-02,\n",
       "        0.00000000e+00, 2.29927878e-02, 4.00131669e-04, 1.13889694e-02,\n",
       "        7.22799424e-03, 7.77083296e-02, 2.44021185e-03, 1.97109197e-06,\n",
       "        3.29803108e-02, 6.72536579e-03, 7.35611521e-03, 3.53811008e-03,\n",
       "        0.00000000e+00, 1.71169626e-02, 1.81340461e-04, 2.75164438e-03,\n",
       "        2.66649321e-02, 7.29304027e-05, 2.99014651e-03, 5.98423521e-03,\n",
       "        1.09060518e-02, 1.97109197e-05, 3.00788634e-03, 2.46386496e-04,\n",
       "        1.11287852e-02, 1.97109197e-06, 2.97634887e-04, 2.06314196e-02,\n",
       "        3.52963438e-02, 3.51642807e-03, 1.25266837e-01, 0.00000000e+00,\n",
       "        6.66031975e-03, 5.30223739e-04, 5.91327590e-05, 9.23259477e-03,\n",
       "        5.51905750e-05, 4.72512137e-01, 6.20893969e-03, 2.16820116e-05,\n",
       "        6.53614096e-03, 8.51610284e-02, 3.94218393e-06, 2.84763656e-02,\n",
       "        2.39349697e-02, 0.00000000e+00, 3.09067220e-03, 5.77616674e-01,\n",
       "        5.79501038e-03, 1.13948827e-02, 2.72010691e-04, 3.63153984e-02,\n",
       "        7.03679832e-04, 1.30348312e-02, 1.27352252e-02, 5.96275030e-02,\n",
       "        1.47358835e-02, 4.64862329e-02, 3.94218393e-06, 3.21682209e-03,\n",
       "        3.43068557e-02, 6.20893969e-03, 8.09724579e-03, 9.10447379e-03,\n",
       "        1.75683427e-02, 4.06951647e-02, 2.88567864e-03, 1.97109197e-06,\n",
       "        1.17999420e-01, 3.45138203e-03, 2.91721611e-04, 7.39356596e-03,\n",
       "        2.95466686e-03, 9.36268683e-04, 1.97109197e-06, 1.54021126e-02,\n",
       "        5.47037153e-02, 5.32194831e-04, 3.65243341e-03, 5.05782198e-02,\n",
       "        7.88436786e-05, 6.14192256e-03, 2.03554667e-02, 1.26760924e-02,\n",
       "        1.57687357e-05, 3.64060686e-03, 2.89750519e-03, 2.90676932e-02,\n",
       "        8.52497275e-03, 5.89356498e-04, 4.83173773e-02, 2.88567864e-03,\n",
       "        1.23942263e-02, 2.75558657e-03, 3.96780813e-03, 3.03351053e-03,\n",
       "        4.17674387e-03, 3.54796554e-05, 1.00000000e+00, 9.46124143e-05,\n",
       "        1.81340461e-04, 6.03225101e-01, 2.68048796e-02, 3.09855657e-03,\n",
       "        2.16820116e-05, 2.33810929e-02, 2.41360211e-02, 2.06176220e-03,\n",
       "        5.73587762e-03, 3.94218393e-06, 3.74507473e-04, 1.71879219e-03,\n",
       "        1.57687357e-05, 3.50854370e-04, 1.00348292e-02, 1.37976438e-05,\n",
       "        3.76242034e-02, 3.92247301e-03, 4.63334733e-01, 3.74507473e-04,\n",
       "        1.24178794e-04, 8.87188494e-03, 5.34560141e-03, 2.22492919e-01,\n",
       "        5.79303929e-03, 9.46124143e-05, 2.02234036e-03, 0.00000000e+00,\n",
       "        9.85545983e-06, 0.00000000e+00, 3.16754479e-03, 9.46124143e-05,\n",
       "        3.52234134e-03, 7.03679832e-04, 1.22144627e-01, 2.86793881e-03,\n",
       "        3.31853043e-02, 8.22063615e-02, 2.95663795e-05, 5.73804582e-02,\n",
       "        0.00000000e+00, 1.37976438e-04, 6.17740222e-03, 5.61761210e-04,\n",
       "        2.95466686e-03, 1.10972478e-03, 4.05118532e-02, 5.93495791e-03,\n",
       "        9.89882385e-03, 1.48247798e-01, 7.75486712e-02, 8.28331687e-02])}"
      ]
     },
     "execution_count": 20,
     "metadata": {},
     "output_type": "execute_result"
    }
   ],
   "source": [
    "dict(list(train_model_input.items())[30:31])"
   ]
  },
  {
   "cell_type": "code",
   "execution_count": 21,
   "metadata": {},
   "outputs": [
    {
     "data": {
      "text/html": [
       "<div>\n",
       "<style scoped>\n",
       "    .dataframe tbody tr th:only-of-type {\n",
       "        vertical-align: middle;\n",
       "    }\n",
       "\n",
       "    .dataframe tbody tr th {\n",
       "        vertical-align: top;\n",
       "    }\n",
       "\n",
       "    .dataframe thead th {\n",
       "        text-align: right;\n",
       "    }\n",
       "</style>\n",
       "<table border=\"1\" class=\"dataframe\">\n",
       "  <thead>\n",
       "    <tr style=\"text-align: right;\">\n",
       "      <th></th>\n",
       "      <th>label</th>\n",
       "      <th>I1</th>\n",
       "      <th>I2</th>\n",
       "      <th>I3</th>\n",
       "      <th>I4</th>\n",
       "      <th>I5</th>\n",
       "      <th>I6</th>\n",
       "      <th>I7</th>\n",
       "      <th>I8</th>\n",
       "      <th>I9</th>\n",
       "      <th>...</th>\n",
       "      <th>C17</th>\n",
       "      <th>C18</th>\n",
       "      <th>C19</th>\n",
       "      <th>C20</th>\n",
       "      <th>C21</th>\n",
       "      <th>C22</th>\n",
       "      <th>C23</th>\n",
       "      <th>C24</th>\n",
       "      <th>C25</th>\n",
       "      <th>C26</th>\n",
       "    </tr>\n",
       "  </thead>\n",
       "  <tbody>\n",
       "    <tr>\n",
       "      <th>98</th>\n",
       "      <td>0</td>\n",
       "      <td>0.027027</td>\n",
       "      <td>0.000666</td>\n",
       "      <td>0.004973</td>\n",
       "      <td>0.011494</td>\n",
       "      <td>0.000233</td>\n",
       "      <td>0.000475</td>\n",
       "      <td>0.013289</td>\n",
       "      <td>0.020408</td>\n",
       "      <td>0.030948</td>\n",
       "      <td>...</td>\n",
       "      <td>8</td>\n",
       "      <td>61</td>\n",
       "      <td>5</td>\n",
       "      <td>2</td>\n",
       "      <td>75</td>\n",
       "      <td>0</td>\n",
       "      <td>0</td>\n",
       "      <td>35</td>\n",
       "      <td>1</td>\n",
       "      <td>24</td>\n",
       "    </tr>\n",
       "    <tr>\n",
       "      <th>92</th>\n",
       "      <td>0</td>\n",
       "      <td>0.027027</td>\n",
       "      <td>0.001666</td>\n",
       "      <td>0.026643</td>\n",
       "      <td>0.241379</td>\n",
       "      <td>0.000485</td>\n",
       "      <td>0.032764</td>\n",
       "      <td>0.003322</td>\n",
       "      <td>0.673469</td>\n",
       "      <td>0.031915</td>\n",
       "      <td>...</td>\n",
       "      <td>8</td>\n",
       "      <td>125</td>\n",
       "      <td>5</td>\n",
       "      <td>1</td>\n",
       "      <td>19</td>\n",
       "      <td>0</td>\n",
       "      <td>1</td>\n",
       "      <td>31</td>\n",
       "      <td>8</td>\n",
       "      <td>27</td>\n",
       "    </tr>\n",
       "    <tr>\n",
       "      <th>34</th>\n",
       "      <td>0</td>\n",
       "      <td>0.000000</td>\n",
       "      <td>0.000000</td>\n",
       "      <td>0.000355</td>\n",
       "      <td>0.264368</td>\n",
       "      <td>0.006246</td>\n",
       "      <td>0.069801</td>\n",
       "      <td>0.205980</td>\n",
       "      <td>0.000000</td>\n",
       "      <td>0.728240</td>\n",
       "      <td>...</td>\n",
       "      <td>6</td>\n",
       "      <td>11</td>\n",
       "      <td>3</td>\n",
       "      <td>3</td>\n",
       "      <td>12</td>\n",
       "      <td>0</td>\n",
       "      <td>0</td>\n",
       "      <td>84</td>\n",
       "      <td>12</td>\n",
       "      <td>70</td>\n",
       "    </tr>\n",
       "    <tr>\n",
       "      <th>26</th>\n",
       "      <td>0</td>\n",
       "      <td>0.000000</td>\n",
       "      <td>0.000666</td>\n",
       "      <td>0.000710</td>\n",
       "      <td>0.183908</td>\n",
       "      <td>0.028392</td>\n",
       "      <td>0.037512</td>\n",
       "      <td>0.006645</td>\n",
       "      <td>0.326531</td>\n",
       "      <td>0.099613</td>\n",
       "      <td>...</td>\n",
       "      <td>0</td>\n",
       "      <td>93</td>\n",
       "      <td>0</td>\n",
       "      <td>0</td>\n",
       "      <td>121</td>\n",
       "      <td>5</td>\n",
       "      <td>0</td>\n",
       "      <td>2</td>\n",
       "      <td>0</td>\n",
       "      <td>0</td>\n",
       "    </tr>\n",
       "    <tr>\n",
       "      <th>131</th>\n",
       "      <td>0</td>\n",
       "      <td>0.324324</td>\n",
       "      <td>0.000666</td>\n",
       "      <td>0.000355</td>\n",
       "      <td>0.172414</td>\n",
       "      <td>0.001080</td>\n",
       "      <td>0.011396</td>\n",
       "      <td>0.039867</td>\n",
       "      <td>0.367347</td>\n",
       "      <td>0.019342</td>\n",
       "      <td>...</td>\n",
       "      <td>8</td>\n",
       "      <td>89</td>\n",
       "      <td>0</td>\n",
       "      <td>0</td>\n",
       "      <td>57</td>\n",
       "      <td>0</td>\n",
       "      <td>0</td>\n",
       "      <td>70</td>\n",
       "      <td>0</td>\n",
       "      <td>0</td>\n",
       "    </tr>\n",
       "  </tbody>\n",
       "</table>\n",
       "<p>5 rows × 40 columns</p>\n",
       "</div>"
      ],
      "text/plain": [
       "     label        I1        I2        I3        I4        I5        I6  \\\n",
       "98       0  0.027027  0.000666  0.004973  0.011494  0.000233  0.000475   \n",
       "92       0  0.027027  0.001666  0.026643  0.241379  0.000485  0.032764   \n",
       "34       0  0.000000  0.000000  0.000355  0.264368  0.006246  0.069801   \n",
       "26       0  0.000000  0.000666  0.000710  0.183908  0.028392  0.037512   \n",
       "131      0  0.324324  0.000666  0.000355  0.172414  0.001080  0.011396   \n",
       "\n",
       "           I7        I8        I9  ...  C17  C18  C19  C20  C21  C22  C23  \\\n",
       "98   0.013289  0.020408  0.030948  ...    8   61    5    2   75    0    0   \n",
       "92   0.003322  0.673469  0.031915  ...    8  125    5    1   19    0    1   \n",
       "34   0.205980  0.000000  0.728240  ...    6   11    3    3   12    0    0   \n",
       "26   0.006645  0.326531  0.099613  ...    0   93    0    0  121    5    0   \n",
       "131  0.039867  0.367347  0.019342  ...    8   89    0    0   57    0    0   \n",
       "\n",
       "     C24  C25  C26  \n",
       "98    35    1   24  \n",
       "92    31    8   27  \n",
       "34    84   12   70  \n",
       "26     2    0    0  \n",
       "131   70    0    0  \n",
       "\n",
       "[5 rows x 40 columns]"
      ]
     },
     "execution_count": 21,
     "metadata": {},
     "output_type": "execute_result"
    }
   ],
   "source": [
    "train.head()"
   ]
  },
  {
   "cell_type": "code",
   "execution_count": 22,
   "metadata": {},
   "outputs": [
    {
     "data": {
      "text/plain": [
       "(160, 40)"
      ]
     },
     "execution_count": 22,
     "metadata": {},
     "output_type": "execute_result"
    }
   ],
   "source": [
    "train.shape"
   ]
  },
  {
   "cell_type": "markdown",
   "metadata": {},
   "source": [
    "이제 DeepFM을 활용할 시간, parameter들은 아래와 같이 다양하다.  \n",
    "linear한 부분과 deep한 부분을 잘 나누고, task 목적에 맞게 적용하면 되는 것 같다.  \n",
    "\n",
    "- param linear_feature_columns: An iterable containing all the features used by linear part of the model.\n",
    "- param dnn_feature_columns: An iterable containing all the features used by deep part of the model.\n",
    "- param fm_group: list, group_name of features that will be used to do feature interactions.\n",
    "- param dnn_hidden_units: list,list of positive integer or empty list, the layer number and units in each layer of DNN\n",
    "- param l2_reg_linear: float. L2 regularizer strength applied to linear part\n",
    "- param l2_reg_embedding: float. L2 regularizer strength applied to embedding vector\n",
    "- param l2_reg_dnn: float. L2 regularizer strength applied to DNN\n",
    "- param init_std: float,to use as the initialize std of embedding vector\n",
    "- param seed: integer ,to use as random seed.\n",
    "- param dnn_dropout: float in [0,1), the probability we will drop out a given DNN coordinate.\n",
    "- param dnn_activation: Activation function to use in DNN\n",
    "param dnn_use_bn: bool. Whether use BatchNormalization before activation or not in DNN\n",
    "- param task: str, \"binary\" for binary logloss or \"regression\" for regression loss  \n",
    "return: A Keras model instance."
   ]
  },
  {
   "cell_type": "code",
   "execution_count": 25,
   "metadata": {},
   "outputs": [],
   "source": [
    "device = 'cpu'\n",
    "use_cuda = True\n",
    "if use_cuda and torch.cuda.is_available():\n",
    "    print('cuda ready...')\n",
    "    device = 'cuda:0'"
   ]
  },
  {
   "cell_type": "code",
   "execution_count": 26,
   "metadata": {},
   "outputs": [],
   "source": [
    "model = DeepFM(linear_feature_columns,dnn_feature_columns,task='binary',device=device)\n",
    "model.compile(\"adam\", \"binary_crossentropy\",\n",
    "              metrics=['binary_crossentropy'], )"
   ]
  },
  {
   "cell_type": "code",
   "execution_count": 27,
   "metadata": {},
   "outputs": [
    {
     "name": "stdout",
     "output_type": "stream",
     "text": [
      "cpu\n",
      "Train on 128 samples, validate on 32 samples, 1 steps per epoch\n",
      "Epoch 1/10\n",
      "0s - loss:  0.6983 - binary_crossentropy:  0.6983 - val_binary_crossentropy:  0.6906\n",
      "Epoch 2/10\n",
      "0s - loss:  0.6859 - binary_crossentropy:  0.6859 - val_binary_crossentropy:  0.6818\n",
      "Epoch 3/10\n",
      "0s - loss:  0.6735 - binary_crossentropy:  0.6735 - val_binary_crossentropy:  0.6736\n",
      "Epoch 4/10\n",
      "0s - loss:  0.6614 - binary_crossentropy:  0.6614 - val_binary_crossentropy:  0.6656\n",
      "Epoch 5/10\n",
      "0s - loss:  0.6491 - binary_crossentropy:  0.6491 - val_binary_crossentropy:  0.6578\n",
      "Epoch 6/10\n",
      "0s - loss:  0.6368 - binary_crossentropy:  0.6368 - val_binary_crossentropy:  0.6503\n",
      "Epoch 7/10\n",
      "0s - loss:  0.6245 - binary_crossentropy:  0.6245 - val_binary_crossentropy:  0.6433\n",
      "Epoch 8/10\n",
      "0s - loss:  0.6122 - binary_crossentropy:  0.6122 - val_binary_crossentropy:  0.6370\n",
      "Epoch 9/10\n",
      "0s - loss:  0.6001 - binary_crossentropy:  0.6001 - val_binary_crossentropy:  0.6310\n",
      "Epoch 10/10\n",
      "0s - loss:  0.5878 - binary_crossentropy:  0.5878 - val_binary_crossentropy:  0.6252\n",
      "Wall time: 1.38 s\n"
     ]
    }
   ],
   "source": [
    "%%time\n",
    "history = model.fit(train_model_input, train[target].values,\n",
    "                    batch_size=256, epochs=10, verbose=2, validation_split=0.2, )"
   ]
  },
  {
   "cell_type": "code",
   "execution_count": 28,
   "metadata": {},
   "outputs": [
    {
     "data": {
      "text/plain": [
       "array([[0.43578967],\n",
       "       [0.42702374],\n",
       "       [0.4441861 ],\n",
       "       [0.42078272],\n",
       "       [0.4245204 ],\n",
       "       [0.43748072],\n",
       "       [0.4313904 ],\n",
       "       [0.43499702],\n",
       "       [0.44296852],\n",
       "       [0.4303176 ],\n",
       "       [0.41810435],\n",
       "       [0.41593993],\n",
       "       [0.43440115],\n",
       "       [0.4366478 ],\n",
       "       [0.42590103],\n",
       "       [0.41957003],\n",
       "       [0.43522128],\n",
       "       [0.41668954],\n",
       "       [0.42480537],\n",
       "       [0.42948022],\n",
       "       [0.40719205],\n",
       "       [0.45852298],\n",
       "       [0.44160125],\n",
       "       [0.43341914],\n",
       "       [0.4286052 ],\n",
       "       [0.42457548],\n",
       "       [0.4162119 ],\n",
       "       [0.42717403],\n",
       "       [0.4299931 ],\n",
       "       [0.44425237],\n",
       "       [0.43412456],\n",
       "       [0.43167877],\n",
       "       [0.42615494],\n",
       "       [0.44083756],\n",
       "       [0.42414126],\n",
       "       [0.42910254],\n",
       "       [0.43697315],\n",
       "       [0.44370252],\n",
       "       [0.41360542],\n",
       "       [0.4171199 ]], dtype=float32)"
      ]
     },
     "execution_count": 28,
     "metadata": {},
     "output_type": "execute_result"
    }
   ],
   "source": [
    "pred_ans = model.predict(test_model_input, batch_size=256)\n",
    "pred_ans # 클릭할 확률들이 산출 된다."
   ]
  },
  {
   "cell_type": "code",
   "execution_count": 29,
   "metadata": {},
   "outputs": [
    {
     "name": "stdout",
     "output_type": "stream",
     "text": [
      "test LogLoss 0.5989\n",
      "test AUC 0.4114\n"
     ]
    }
   ],
   "source": [
    "print(\"test LogLoss\", round(log_loss(test[target].values, pred_ans), 4))\n",
    "print(\"test AUC\", round(roc_auc_score(test[target].values, pred_ans), 4))"
   ]
  },
  {
   "cell_type": "code",
   "execution_count": null,
   "metadata": {},
   "outputs": [],
   "source": []
  }
 ],
 "metadata": {
  "kernelspec": {
   "display_name": "Python 3",
   "language": "python",
   "name": "python3"
  },
  "language_info": {
   "codemirror_mode": {
    "name": "ipython",
    "version": 3
   },
   "file_extension": ".py",
   "mimetype": "text/x-python",
   "name": "python",
   "nbconvert_exporter": "python",
   "pygments_lexer": "ipython3",
   "version": "3.7.3"
  }
 },
 "nbformat": 4,
 "nbformat_minor": 2
}
